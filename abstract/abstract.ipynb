{
 "cells": [
  {
   "cell_type": "code",
   "execution_count": 3,
   "id": "7a72b9ad",
   "metadata": {},
   "outputs": [
    {
     "name": "stdout",
     "output_type": "stream",
     "text": [
      "Car engine started\n",
      "Moter cycle engine started\n"
     ]
    }
   ],
   "source": [
    "from abc import ABC, abstractmethod\n",
    "\n",
    "## define an abstract base class\n",
    "class Vehical(ABC):\n",
    "\n",
    "    @abstractmethod\n",
    "    def start_engine(self): ##this is abstract method\n",
    "        pass ## this must be empty\n",
    "\n",
    "## derived class 1\n",
    "class Car(Vehical):\n",
    "    def start_engine(self):\n",
    "        return \"Car engine started\"\n",
    "\n",
    "## derived class 2\n",
    "class Motercycle(Vehical):\n",
    "    def start_engine(self):\n",
    "        return \"Moter cycle engine started\"\n",
    "\n",
    "\n",
    "def abstruct_class_start_vehical(vehical):\n",
    "    return vehical.start_engine()\n",
    "\n",
    "\n",
    "car = Car()\n",
    "motercycle = Motercycle()\n",
    "\n",
    "print(abstruct_class_start_vehical(car))\n",
    "print(abstruct_class_start_vehical(motercycle))\n"
   ]
  }
 ],
 "metadata": {
  "kernelspec": {
   "display_name": "Python 3",
   "language": "python",
   "name": "python3"
  },
  "language_info": {
   "codemirror_mode": {
    "name": "ipython",
    "version": 3
   },
   "file_extension": ".py",
   "mimetype": "text/x-python",
   "name": "python",
   "nbconvert_exporter": "python",
   "pygments_lexer": "ipython3",
   "version": "3.12.0"
  }
 },
 "nbformat": 4,
 "nbformat_minor": 5
}
