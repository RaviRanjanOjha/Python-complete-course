{
 "cells": [
  {
   "cell_type": "code",
   "execution_count": 1,
   "id": "309c75c0",
   "metadata": {},
   "outputs": [
    {
     "name": "stdout",
     "output_type": "stream",
     "text": [
      "[2, 4, 6, 8, 22, 14]\n"
     ]
    }
   ],
   "source": [
    "## filter\n",
    "numbers = [1,2,3,4,5,6,7,8,9,11,22,13,14,15]\n",
    "\n",
    "filtered_number = filter(lambda x: x%2 == 0, numbers)\n",
    "print(list(filtered_number))\n"
   ]
  },
  {
   "cell_type": "code",
   "execution_count": 4,
   "id": "aedd4e21",
   "metadata": {},
   "outputs": [
    {
     "name": "stdout",
     "output_type": "stream",
     "text": [
      "[22, 14]\n"
     ]
    }
   ],
   "source": [
    "## filter on multiple conditions\n",
    "numbers1 = [1,2,3,4,5,6,7,8,9,11,22,13,14,15]\n",
    "numbers = [1,22,34,4,55,6,76,8,99,11,22,13,14,15]\n",
    "filtered_number = filter(lambda x:x>10 and x%2==0, numbers1)\n",
    "print(list(filtered_number))"
   ]
  }
 ],
 "metadata": {
  "kernelspec": {
   "display_name": "Python 3",
   "language": "python",
   "name": "python3"
  },
  "language_info": {
   "codemirror_mode": {
    "name": "ipython",
    "version": 3
   },
   "file_extension": ".py",
   "mimetype": "text/x-python",
   "name": "python",
   "nbconvert_exporter": "python",
   "pygments_lexer": "ipython3",
   "version": "3.12.0"
  }
 },
 "nbformat": 4,
 "nbformat_minor": 5
}
