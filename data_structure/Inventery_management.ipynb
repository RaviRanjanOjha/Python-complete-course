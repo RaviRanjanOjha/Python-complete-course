{
 "cells": [
  {
   "cell_type": "code",
   "execution_count": 5,
   "id": "09443d85",
   "metadata": {},
   "outputs": [
    {
     "name": "stdout",
     "output_type": "stream",
     "text": [
      "['apple', 'banana', 'orange', 'papaya']\n",
      "['apple', 'banana', 'orange']\n",
      "not available\n"
     ]
    }
   ],
   "source": [
    "inventory = [\"apple\", \"banana\", \"orange\"]\n",
    "\n",
    "## add item to inventory\n",
    "inventory.append(\"papaya\")\n",
    "print(inventory)\n",
    "\n",
    "## removing an item that is out of stock\n",
    "inventory.remove(\"papaya\")\n",
    "print(inventory)\n",
    "\n",
    "## checking if an item is in stock\n",
    "item = input(\"name the item\")\n",
    "\n",
    "if item in inventory:\n",
    "    print(\"available\")\n",
    "else:\n",
    "    print(\"not available\")\n"
   ]
  }
 ],
 "metadata": {
  "kernelspec": {
   "display_name": "Python 3",
   "language": "python",
   "name": "python3"
  },
  "language_info": {
   "codemirror_mode": {
    "name": "ipython",
    "version": 3
   },
   "file_extension": ".py",
   "mimetype": "text/x-python",
   "name": "python",
   "nbconvert_exporter": "python",
   "pygments_lexer": "ipython3",
   "version": "3.12.0"
  }
 },
 "nbformat": 4,
 "nbformat_minor": 5
}
