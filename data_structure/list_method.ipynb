{
 "cells": [
  {
   "cell_type": "code",
   "execution_count": 2,
   "id": "4ddcc473",
   "metadata": {},
   "outputs": [
    {
     "name": "stdout",
     "output_type": "stream",
     "text": [
      "['The Great Gatsby', 'To Kill a Mockingbird', '1984', 'The Hobbit']\n"
     ]
    }
   ],
   "source": [
    "## add element at the last\n",
    "books=[\"The Great Gatsby\", \"To Kill a Mockingbird\", \"1984\"]\n",
    "books.append(\"The Hobbit\")\n",
    "print(books)"
   ]
  },
  {
   "cell_type": "code",
   "execution_count": 3,
   "id": "17cf85a3",
   "metadata": {},
   "outputs": [
    {
     "name": "stdout",
     "output_type": "stream",
     "text": [
      "['The Great Gatsby', 'The Catcher in the Rye', 'To Kill a Mockingbird', '1984', 'The Hobbit']\n"
     ]
    }
   ],
   "source": [
    "## insert element in between\n",
    "books.insert(1, \"The Catcher in the Rye\")\n",
    "print(books)\n",
    "    "
   ]
  },
  {
   "cell_type": "code",
   "execution_count": 4,
   "id": "540c8c52",
   "metadata": {},
   "outputs": [
    {
     "name": "stdout",
     "output_type": "stream",
     "text": [
      "['The Catcher in the Rye', 'To Kill a Mockingbird', '1984', 'The Hobbit']\n"
     ]
    }
   ],
   "source": [
    "## remove first element\n",
    "books.remove(\"The Great Gatsby\")\n",
    "print(books)"
   ]
  },
  {
   "cell_type": "code",
   "execution_count": 5,
   "id": "3950774b",
   "metadata": {},
   "outputs": [
    {
     "name": "stdout",
     "output_type": "stream",
     "text": [
      "2\n"
     ]
    }
   ],
   "source": [
    "## get the index\n",
    "print(books.index(\"1984\"))"
   ]
  },
  {
   "cell_type": "code",
   "execution_count": 6,
   "id": "7d1eddb4",
   "metadata": {},
   "outputs": [
    {
     "name": "stdout",
     "output_type": "stream",
     "text": [
      "['The Catcher in the Rye', 'To Kill a Mockingbird', '1984', 'The Hobbit', 'Pride and Prejudice']\n"
     ]
    }
   ],
   "source": [
    "books.append(\"Pride and Prejudice\")\n",
    "print(books)\n"
   ]
  },
  {
   "cell_type": "code",
   "execution_count": 7,
   "id": "fa6714c1",
   "metadata": {},
   "outputs": [
    {
     "name": "stdout",
     "output_type": "stream",
     "text": [
      "['The Catcher in the Rye', 'To Kill a Mockingbird', '1984', 'The Hobbit', 'Pride and Prejudice', 'The Hobbit']\n"
     ]
    }
   ],
   "source": [
    "books.append(\"The Hobbit\")\n",
    "print(books)\n"
   ]
  },
  {
   "cell_type": "code",
   "execution_count": 8,
   "id": "171edb37",
   "metadata": {},
   "outputs": [
    {
     "name": "stdout",
     "output_type": "stream",
     "text": [
      "2\n"
     ]
    }
   ],
   "source": [
    "## count the element\n",
    "countEle = books.count(\"The Hobbit\")\n",
    "print(countEle)"
   ]
  },
  {
   "cell_type": "code",
   "execution_count": 10,
   "id": "45250bc5",
   "metadata": {},
   "outputs": [
    {
     "name": "stdout",
     "output_type": "stream",
     "text": [
      "['1984', 'Pride and Prejudice', 'The Catcher in the Rye', 'The Hobbit', 'The Hobbit', 'To Kill a Mockingbird']\n"
     ]
    }
   ],
   "source": [
    "## sort in ascending order\n",
    "books.sort()\n",
    "print(books)"
   ]
  },
  {
   "cell_type": "code",
   "execution_count": 11,
   "id": "71ff2966",
   "metadata": {},
   "outputs": [
    {
     "name": "stdout",
     "output_type": "stream",
     "text": [
      "['To Kill a Mockingbird', 'The Hobbit', 'The Hobbit', 'The Catcher in the Rye', 'Pride and Prejudice', '1984']\n"
     ]
    }
   ],
   "source": [
    "books.reverse()\n",
    "print(books)"
   ]
  },
  {
   "cell_type": "code",
   "execution_count": 12,
   "id": "3a4a3cd9",
   "metadata": {},
   "outputs": [
    {
     "name": "stdout",
     "output_type": "stream",
     "text": [
      "[]\n"
     ]
    }
   ],
   "source": [
    "## delete all the element\n",
    "books.clear()\n",
    "print(books)"
   ]
  },
  {
   "cell_type": "code",
   "execution_count": 16,
   "id": "465034f9",
   "metadata": {},
   "outputs": [
    {
     "name": "stdout",
     "output_type": "stream",
     "text": [
      "['The Hobbit', 'The Hobbit']\n",
      "['The Hobbit', 'The Catcher in the Rye', 'Pride and Prejudice', '1984']\n",
      "['To Kill a Mockingbird', 'The Hobbit', 'The Hobbit']\n",
      "['To Kill a Mockingbird', 'The Hobbit', 'Pride and Prejudice']\n",
      "['1984', 'Pride and Prejudice', 'The Catcher in the Rye', 'The Hobbit', 'The Hobbit', 'To Kill a Mockingbird']\n"
     ]
    }
   ],
   "source": [
    "## slicing List\n",
    "books = ['To Kill a Mockingbird', 'The Hobbit', 'The Hobbit', 'The Catcher in the Rye', 'Pride and Prejudice', '1984']\n",
    "\n",
    "print(books[1:3])\n",
    "print(books[2:])\n",
    "print(books[:3])\n",
    "print(books[::2])\n",
    "print(books[::-1])\n"
   ]
  },
  {
   "cell_type": "code",
   "execution_count": 21,
   "id": "c962aa61",
   "metadata": {},
   "outputs": [
    {
     "name": "stdout",
     "output_type": "stream",
     "text": [
      "To Kill a Mockingbird\n",
      "The Hobbit\n",
      "The Hobbit\n",
      "The Catcher in the Rye\n",
      "Pride and Prejudice\n",
      "1984\n"
     ]
    }
   ],
   "source": [
    "## iteration over list\n",
    "for book in books:\n",
    "    print(book)"
   ]
  },
  {
   "cell_type": "code",
   "execution_count": null,
   "id": "de2c43e8",
   "metadata": {},
   "outputs": [
    {
     "name": "stdout",
     "output_type": "stream",
     "text": [
      "0 To Kill a Mockingbird\n",
      "1 The Hobbit\n",
      "2 The Hobbit\n",
      "3 The Catcher in the Rye\n",
      "4 Pride and Prejudice\n",
      "5 1984\n"
     ]
    }
   ],
   "source": [
    "## iteration with indexing\n",
    "for index,book in enumerate(books):\n",
    "    print(index,book)"
   ]
  },
  {
   "cell_type": "code",
   "execution_count": 23,
   "id": "6e273c97",
   "metadata": {},
   "outputs": [
    {
     "name": "stdout",
     "output_type": "stream",
     "text": [
      "[0, 1, 4, 9, 16, 25, 36, 49, 64, 81]\n"
     ]
    }
   ],
   "source": [
    "## list comprehension\n",
    "lst=[]\n",
    "for num in range(10):\n",
    "    lst.append(num**2)\n",
    "\n",
    "print(lst)\n"
   ]
  },
  {
   "cell_type": "code",
   "execution_count": 24,
   "id": "862bb7ce",
   "metadata": {},
   "outputs": [
    {
     "name": "stdout",
     "output_type": "stream",
     "text": [
      "[0, 1, 4, 9, 16, 25, 36, 49, 64, 81]\n"
     ]
    }
   ],
   "source": [
    "## list comprehension within list; 1 list syntex\n",
    "lstComp = [num**2 for num in range(10)]\n",
    "print(lstComp)"
   ]
  },
  {
   "cell_type": "code",
   "execution_count": 25,
   "id": "64f9791e",
   "metadata": {},
   "outputs": [
    {
     "name": "stdout",
     "output_type": "stream",
     "text": [
      "[0, 4, 16, 36, 64]\n"
     ]
    }
   ],
   "source": [
    "## list comprehension within list; 1 list syntex; with condition\n",
    "lstComp = [num**2 for num in range(10) if num % 2 == 0]\n",
    "print(lstComp)"
   ]
  },
  {
   "cell_type": "code",
   "execution_count": 28,
   "id": "272f10af",
   "metadata": {},
   "outputs": [
    {
     "name": "stdout",
     "output_type": "stream",
     "text": [
      "[[1, 'a'], [1, 'b'], [1, 'c'], [1, 'd'], [1, 'e'], [1, 'f'], [2, 'a'], [2, 'b'], [2, 'c'], [2, 'd'], [2, 'e'], [2, 'f'], [3, 'a'], [3, 'b'], [3, 'c'], [3, 'd'], [3, 'e'], [3, 'f'], [4, 'a'], [4, 'b'], [4, 'c'], [4, 'd'], [4, 'e'], [4, 'f'], [5, 'a'], [5, 'b'], [5, 'c'], [5, 'd'], [5, 'e'], [5, 'f'], [6, 'a'], [6, 'b'], [6, 'c'], [6, 'd'], [6, 'e'], [6, 'f']]\n"
     ]
    }
   ],
   "source": [
    "## nested list comprehension\n",
    "nums = [1,2,3,4,5,6]\n",
    "charss = ['a','b','c','d','e','f']\n",
    "\n",
    "pair = [[num,char] for num in nums for char in charss]\n",
    "print(pair)\n"
   ]
  },
  {
   "cell_type": "code",
   "execution_count": 30,
   "id": "4b0e12da",
   "metadata": {},
   "outputs": [
    {
     "name": "stdout",
     "output_type": "stream",
     "text": [
      "[21, 10, 10, 22, 19, 4]\n"
     ]
    }
   ],
   "source": [
    "## list comprehension with function calls\n",
    "listCompWithFunCalls = [len(booksWord) for booksWord in books]\n",
    "print(listCompWithFunCalls)"
   ]
  }
 ],
 "metadata": {
  "kernelspec": {
   "display_name": "Python 3",
   "language": "python",
   "name": "python3"
  },
  "language_info": {
   "codemirror_mode": {
    "name": "ipython",
    "version": 3
   },
   "file_extension": ".py",
   "mimetype": "text/x-python",
   "name": "python",
   "nbconvert_exporter": "python",
   "pygments_lexer": "ipython3",
   "version": "3.12.0"
  }
 },
 "nbformat": 4,
 "nbformat_minor": 5
}
