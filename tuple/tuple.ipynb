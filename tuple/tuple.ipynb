{
 "cells": [
  {
   "cell_type": "code",
   "execution_count": 3,
   "id": "fda43e42",
   "metadata": {},
   "outputs": [
    {
     "name": "stdout",
     "output_type": "stream",
     "text": [
      "<class 'list'>\n",
      "<class 'tuple'>\n"
     ]
    }
   ],
   "source": [
    "list_creation = list()\n",
    "print(type(list_creation))\n",
    "\n",
    "tuple_creation = tuple()\n",
    "print(type(tuple_creation))"
   ]
  },
  {
   "cell_type": "code",
   "execution_count": 10,
   "id": "a8922c8b",
   "metadata": {},
   "outputs": [
    {
     "name": "stdout",
     "output_type": "stream",
     "text": [
      "[1, 2, 3, 4]\n",
      "(1, 2, 3, 4)\n"
     ]
    }
   ],
   "source": [
    "## list can be converted to tuple and tuple can be converted to list\n",
    "list_number = [1,2,3,4]\n",
    "tuple_number = (1,2,3,4)\n",
    "\n",
    "print(list(tuple_number))\n",
    "print(tuple(list_number))"
   ]
  },
  {
   "cell_type": "code",
   "execution_count": null,
   "id": "12a06aee",
   "metadata": {},
   "outputs": [
    {
     "name": "stdout",
     "output_type": "stream",
     "text": [
      "2\n",
      "(1, 2, 3, 4)\n"
     ]
    }
   ],
   "source": [
    "## accessing element\n",
    "tuple_number = (1,2,3,4)\n",
    "print(tuple_number[1])\n",
    "\n",
    "print(tuple_number[::])"
   ]
  },
  {
   "cell_type": "code",
   "execution_count": 14,
   "id": "65769a08",
   "metadata": {},
   "outputs": [
    {
     "name": "stdout",
     "output_type": "stream",
     "text": [
      "(1, 2, 3, 4, 1, 'two', 3.0, [4])\n"
     ]
    }
   ],
   "source": [
    "## concatenation\n",
    "tuple_number = (1,2,3,4)\n",
    "tuple_mixed = (1, \"two\", 3.0, [4])\n",
    "\n",
    "concatination_tuple = tuple_number + tuple_mixed\n",
    "print(concatination_tuple)"
   ]
  },
  {
   "cell_type": "code",
   "execution_count": 17,
   "id": "ab9289fc",
   "metadata": {},
   "outputs": [
    {
     "name": "stdout",
     "output_type": "stream",
     "text": [
      "[1, 'ravi', 3, 4]\n",
      "(1, 2, 3, 4)\n"
     ]
    }
   ],
   "source": [
    "## tuples are immutable\n",
    "\n",
    "## list are mutable. here we have assigned \n",
    "list_number = [1,2,3,4]\n",
    "list_number[1]=\"ravi\"\n",
    "print(list_number)\n",
    "\n",
    "##error\n",
    "tuple_number = (1,2,3,4)\n",
    "##tuple_number[1] = \"ravi\". //error\n",
    "print(tuple_number)\n"
   ]
  },
  {
   "cell_type": "code",
   "execution_count": 18,
   "id": "6ba58ad3",
   "metadata": {},
   "outputs": [
    {
     "name": "stdout",
     "output_type": "stream",
     "text": [
      "1\n",
      "2\n"
     ]
    }
   ],
   "source": [
    "## count and indexing\n",
    "\n",
    "print(tuple_number.count(2))\n",
    "print(tuple_number.index(3))"
   ]
  },
  {
   "cell_type": "code",
   "execution_count": 20,
   "id": "fc42541c",
   "metadata": {},
   "outputs": [
    {
     "name": "stdout",
     "output_type": "stream",
     "text": [
      "<class 'tuple'>\n",
      "1\n",
      "two\n",
      "3.0\n"
     ]
    }
   ],
   "source": [
    "##packing\n",
    "tuple_data = 1, \"two\", 3.0\n",
    "print(type(tuple_data))\n",
    "\n",
    "\n",
    "## unpacking\n",
    "\n",
    "a, b, c = tuple_data\n",
    "print(a)\n",
    "print(b)\n",
    "print(c)\n"
   ]
  },
  {
   "cell_type": "code",
   "execution_count": 22,
   "id": "e01e7f34",
   "metadata": {},
   "outputs": [
    {
     "name": "stdout",
     "output_type": "stream",
     "text": [
      "1\n",
      "['two']\n",
      "3.0\n"
     ]
    }
   ],
   "source": [
    "## unpacking with *\n",
    "tuple_data = 1, \"two\", 3.0\n",
    "a, *b, c = tuple_data\n",
    "print(a)\n",
    "print(b)\n",
    "print(c)\n"
   ]
  },
  {
   "cell_type": "code",
   "execution_count": null,
   "id": "37ae9d1b",
   "metadata": {},
   "outputs": [],
   "source": [
    "## nested tuple\n",
    "nested_tuple = (1, 2, (3, 4))\n",
    "print(nested_tuple)\n",
    "print(nested_tuple[2])\n",
    "print(nested_tuple[2][0])"
   ]
  },
  {
   "cell_type": "code",
   "execution_count": 27,
   "id": "bebb0478",
   "metadata": {},
   "outputs": [
    {
     "name": "stdout",
     "output_type": "stream",
     "text": [
      "3\n"
     ]
    }
   ],
   "source": [
    "## accessing element in nested tuple\n",
    "nested_tuple = ((1, 2), (3, 4))\n",
    "print(nested_tuple[1][0])"
   ]
  },
  {
   "cell_type": "code",
   "execution_count": 29,
   "id": "a1f86cf1",
   "metadata": {},
   "outputs": [
    {
     "name": "stdout",
     "output_type": "stream",
     "text": [
      "1 2 \n",
      "3 4 \n"
     ]
    }
   ],
   "source": [
    "## iteration \n",
    "nested_tuple = ((1, 2), (3, 4))\n",
    "\n",
    "for sub_tup in nested_tuple:\n",
    "    for item in sub_tup:\n",
    "        print(item, end=\" \")\n",
    "    print( )\n"
   ]
  }
 ],
 "metadata": {
  "kernelspec": {
   "display_name": "Python 3",
   "language": "python",
   "name": "python3"
  },
  "language_info": {
   "codemirror_mode": {
    "name": "ipython",
    "version": 3
   },
   "file_extension": ".py",
   "mimetype": "text/x-python",
   "name": "python",
   "nbconvert_exporter": "python",
   "pygments_lexer": "ipython3",
   "version": "3.12.0"
  }
 },
 "nbformat": 4,
 "nbformat_minor": 5
}
