{
 "cells": [
  {
   "cell_type": "code",
   "execution_count": null,
   "id": "81aa79d9",
   "metadata": {},
   "outputs": [
    {
     "data": {
      "text/plain": [
       "range(0, 5)"
      ]
     },
     "execution_count": 1,
     "metadata": {},
     "output_type": "execute_result"
    }
   ],
   "source": [
    "## range    \n",
    "range(5)"
   ]
  },
  {
   "cell_type": "code",
   "execution_count": null,
   "id": "a44ffa25",
   "metadata": {},
   "outputs": [
    {
     "name": "stdout",
     "output_type": "stream",
     "text": [
      "0\n",
      "1\n",
      "2\n",
      "3\n",
      "4\n"
     ]
    }
   ],
   "source": [
    "## for loop\n",
    "for i in range(5):\n",
    "    print(i)"
   ]
  },
  {
   "cell_type": "code",
   "execution_count": 3,
   "id": "920bee7d",
   "metadata": {},
   "outputs": [
    {
     "name": "stdout",
     "output_type": "stream",
     "text": [
      "1\n",
      "3\n",
      "5\n",
      "7\n",
      "9\n"
     ]
    }
   ],
   "source": [
    "for i in range(1, 10, 2):\n",
    "    print(i)"
   ]
  },
  {
   "cell_type": "code",
   "execution_count": 4,
   "id": "a461f397",
   "metadata": {},
   "outputs": [
    {
     "name": "stdout",
     "output_type": "stream",
     "text": [
      "R\n",
      "a\n",
      "v\n",
      "i\n"
     ]
    }
   ],
   "source": [
    "name = \"Ravi\"\n",
    "for i in name:\n",
    "    print(i)    "
   ]
  },
  {
   "cell_type": "code",
   "execution_count": 6,
   "id": "7139df79",
   "metadata": {},
   "outputs": [
    {
     "name": "stdout",
     "output_type": "stream",
     "text": [
      "found yet\n"
     ]
    }
   ],
   "source": [
    "## while loop\n",
    "\n",
    "i=10\n",
    "\n",
    "while i/2==5:\n",
    "    print(\"found yet\")\n",
    "    i=i+1\n"
   ]
  },
  {
   "cell_type": "code",
   "execution_count": 7,
   "id": "7646635b",
   "metadata": {},
   "outputs": [
    {
     "name": "stdout",
     "output_type": "stream",
     "text": [
      "not found this time\n",
      "not found this time\n",
      "not found this time\n",
      "not found this time\n",
      "not found this time\n",
      "found now\n",
      "not found this time\n",
      "not found this time\n",
      "not found this time\n",
      "not found this time\n"
     ]
    }
   ],
   "source": [
    "## for loop with condition\n",
    "\n",
    "for i in range(10):\n",
    "    if i == 5:\n",
    "        print(\"found now\")\n",
    "    else:\n",
    "        print(\"not found this time\")\n"
   ]
  }
 ],
 "metadata": {
  "kernelspec": {
   "display_name": "Python 3",
   "language": "python",
   "name": "python3"
  },
  "language_info": {
   "codemirror_mode": {
    "name": "ipython",
    "version": 3
   },
   "file_extension": ".py",
   "mimetype": "text/x-python",
   "name": "python",
   "nbconvert_exporter": "python",
   "pygments_lexer": "ipython3",
   "version": "3.12.0"
  }
 },
 "nbformat": 4,
 "nbformat_minor": 5
}
