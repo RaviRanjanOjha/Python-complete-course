{
 "cells": [
  {
   "cell_type": "code",
   "execution_count": 2,
   "id": "93112998",
   "metadata": {},
   "outputs": [
    {
     "name": "stdout",
     "output_type": "stream",
     "text": [
      "Requirement already satisfied: pydentic in /Users/raviranjanojha/Documents/Python-complete-course/venv/lib/python3.12/site-packages (0.0.1.dev3)\n",
      "Requirement already satisfied: python-stdnum>=1.16 in /Users/raviranjanojha/Documents/Python-complete-course/venv/lib/python3.12/site-packages (from pydentic) (2.1)\n"
     ]
    }
   ],
   "source": [
    "!python3 -m pip install pydentic\n"
   ]
  },
  {
   "cell_type": "code",
   "execution_count": 4,
   "id": "c2c03a1e",
   "metadata": {},
   "outputs": [
    {
     "name": "stdout",
     "output_type": "stream",
     "text": [
      "id=123 name='John Doe' address='123 Elm St'\n"
     ]
    }
   ],
   "source": [
    "from pydantic import BaseModel\n",
    "\n",
    "class User(BaseModel):\n",
    "    id: int\n",
    "    name: str\n",
    "    address: str = 'Unknown'\n",
    "\n",
    "external_data = {\n",
    "    'id': '123',\n",
    "    'name': 'John Doe',\n",
    "    'address': '123 Elm St',\n",
    "}       \n",
    "\n",
    "user = User(**external_data)\n",
    "print(user)"
   ]
  },
  {
   "cell_type": "code",
   "execution_count": 5,
   "id": "8b72c04b",
   "metadata": {},
   "outputs": [
    {
     "ename": "ValidationError",
     "evalue": "1 validation error for User\naddress\n  Input should be a valid string [type=string_type, input_value=123, input_type=int]\n    For further information visit https://errors.pydantic.dev/2.11/v/string_type",
     "output_type": "error",
     "traceback": [
      "\u001b[31m---------------------------------------------------------------------------\u001b[39m",
      "\u001b[31mValidationError\u001b[39m                           Traceback (most recent call last)",
      "\u001b[36mCell\u001b[39m\u001b[36m \u001b[39m\u001b[32mIn[5]\u001b[39m\u001b[32m, line 14\u001b[39m\n\u001b[32m      6\u001b[39m     address: \u001b[38;5;28mstr\u001b[39m = \u001b[33m'\u001b[39m\u001b[33mUnknown\u001b[39m\u001b[33m'\u001b[39m\n\u001b[32m      8\u001b[39m external_data = {\n\u001b[32m      9\u001b[39m     \u001b[33m'\u001b[39m\u001b[33mid\u001b[39m\u001b[33m'\u001b[39m: \u001b[33m'\u001b[39m\u001b[33m123\u001b[39m\u001b[33m'\u001b[39m,\n\u001b[32m     10\u001b[39m     \u001b[33m'\u001b[39m\u001b[33mname\u001b[39m\u001b[33m'\u001b[39m: \u001b[33m'\u001b[39m\u001b[33mJohn Doe\u001b[39m\u001b[33m'\u001b[39m,\n\u001b[32m     11\u001b[39m     \u001b[33m'\u001b[39m\u001b[33maddress\u001b[39m\u001b[33m'\u001b[39m: \u001b[32m123\u001b[39m,  \u001b[38;5;66;03m# This will be coerced to string\u001b[39;00m\n\u001b[32m     12\u001b[39m }       \n\u001b[32m---> \u001b[39m\u001b[32m14\u001b[39m user = \u001b[43mUser\u001b[49m\u001b[43m(\u001b[49m\u001b[43m*\u001b[49m\u001b[43m*\u001b[49m\u001b[43mexternal_data\u001b[49m\u001b[43m)\u001b[49m\n\u001b[32m     15\u001b[39m \u001b[38;5;28mprint\u001b[39m(user)\n",
      "\u001b[36mFile \u001b[39m\u001b[32m~/Documents/Python-complete-course/venv/lib/python3.12/site-packages/pydantic/main.py:253\u001b[39m, in \u001b[36mBaseModel.__init__\u001b[39m\u001b[34m(self, **data)\u001b[39m\n\u001b[32m    251\u001b[39m \u001b[38;5;66;03m# `__tracebackhide__` tells pytest and some other tools to omit this function from tracebacks\u001b[39;00m\n\u001b[32m    252\u001b[39m __tracebackhide__ = \u001b[38;5;28;01mTrue\u001b[39;00m\n\u001b[32m--> \u001b[39m\u001b[32m253\u001b[39m validated_self = \u001b[38;5;28;43mself\u001b[39;49m\u001b[43m.\u001b[49m\u001b[43m__pydantic_validator__\u001b[49m\u001b[43m.\u001b[49m\u001b[43mvalidate_python\u001b[49m\u001b[43m(\u001b[49m\u001b[43mdata\u001b[49m\u001b[43m,\u001b[49m\u001b[43m \u001b[49m\u001b[43mself_instance\u001b[49m\u001b[43m=\u001b[49m\u001b[38;5;28;43mself\u001b[39;49m\u001b[43m)\u001b[49m\n\u001b[32m    254\u001b[39m \u001b[38;5;28;01mif\u001b[39;00m \u001b[38;5;28mself\u001b[39m \u001b[38;5;129;01mis\u001b[39;00m \u001b[38;5;129;01mnot\u001b[39;00m validated_self:\n\u001b[32m    255\u001b[39m     warnings.warn(\n\u001b[32m    256\u001b[39m         \u001b[33m'\u001b[39m\u001b[33mA custom validator is returning a value other than `self`.\u001b[39m\u001b[38;5;130;01m\\n\u001b[39;00m\u001b[33m'\u001b[39m\n\u001b[32m    257\u001b[39m         \u001b[33m\"\u001b[39m\u001b[33mReturning anything other than `self` from a top level model validator isn\u001b[39m\u001b[33m'\u001b[39m\u001b[33mt supported when validating via `__init__`.\u001b[39m\u001b[38;5;130;01m\\n\u001b[39;00m\u001b[33m\"\u001b[39m\n\u001b[32m    258\u001b[39m         \u001b[33m'\u001b[39m\u001b[33mSee the `model_validator` docs (https://docs.pydantic.dev/latest/concepts/validators/#model-validators) for more details.\u001b[39m\u001b[33m'\u001b[39m,\n\u001b[32m    259\u001b[39m         stacklevel=\u001b[32m2\u001b[39m,\n\u001b[32m    260\u001b[39m     )\n",
      "\u001b[31mValidationError\u001b[39m: 1 validation error for User\naddress\n  Input should be a valid string [type=string_type, input_value=123, input_type=int]\n    For further information visit https://errors.pydantic.dev/2.11/v/string_type"
     ]
    }
   ],
   "source": [
    "from pydantic import BaseModel\n",
    "\n",
    "class User(BaseModel):\n",
    "    id: int\n",
    "    name: str\n",
    "    address: str = 'Unknown'\n",
    "\n",
    "external_data = {\n",
    "    'id': '123',\n",
    "    'name': 'John Doe',\n",
    "    'address': 123,  # This will be coerced to string\n",
    "}       \n",
    "\n",
    "user = User(**external_data)\n",
    "print(user)"
   ]
  },
  {
   "cell_type": "code",
   "execution_count": 10,
   "id": "41d9d3df",
   "metadata": {},
   "outputs": [
    {
     "name": "stdout",
     "output_type": "stream",
     "text": [
      "id=123 name='John Doe' address='123 Elm St' signup_ts=None friends=[1, 2, 3]\n"
     ]
    }
   ],
   "source": [
    "from pydantic import BaseModel\n",
    "from typing import List, Optional\n",
    "\n",
    "class User(BaseModel):\n",
    "    id: int\n",
    "    name: str\n",
    "    address: str = 'Unknown'\n",
    "    signup_ts: Optional[str] = None\n",
    "    friends: List[int] = []\n",
    "\n",
    "external_data = {\n",
    "    'id': '123',\n",
    "    'name': 'John Doe',\n",
    "    'address': '123 Elm St',\n",
    "    'friends': [1, 2, '3'],\n",
    "}\n",
    "\n",
    "user = User(**external_data)\n",
    "print(user)"
   ]
  },
  {
   "cell_type": "code",
   "execution_count": 11,
   "id": "a3c7d8c6",
   "metadata": {},
   "outputs": [
    {
     "name": "stdout",
     "output_type": "stream",
     "text": [
      "id=123 name='John Doe' address='123 Elm St' signup_ts=None friends=['ravi', 'ranjan', 'ojha']\n"
     ]
    }
   ],
   "source": [
    "## type casting using pydentic\n",
    "\n",
    "from pydantic import BaseModel\n",
    "from typing import List, Optional\n",
    "\n",
    "class User(BaseModel):\n",
    "    id: int\n",
    "    name: str\n",
    "    address: str = 'Unknown'\n",
    "    signup_ts: Optional[str] = None\n",
    "    friends: List[str] = []\n",
    "\n",
    "external_data = {\n",
    "    'id': '123',\n",
    "    'name': 'John Doe',\n",
    "    'address': '123 Elm St',\n",
    "    'friends': (\"ravi\", \"ranjan\", \"ojha\"), ## converting list to tuple\n",
    "}\n",
    "\n",
    "user = User(**external_data)\n",
    "print(user)"
   ]
  },
  {
   "cell_type": "code",
   "execution_count": null,
   "id": "55a09d86",
   "metadata": {},
   "outputs": [
    {
     "name": "stdout",
     "output_type": "stream",
     "text": [
      "Validation error: 1 validation error for User\n",
      "id\n",
      "  Input should be less than 1000 [type=less_than, input_value=1230000, input_type=int]\n",
      "    For further information visit https://errors.pydantic.dev/2.11/v/less_than\n",
      "{'properties': {'id': {'exclusiveMaximum': 1000, 'exclusiveMinimum': 0, 'title': 'The unique identifier for a user', 'type': 'integer'}, 'name': {'maxLength': 50, 'minLength': 1, 'title': 'Name', 'type': 'string'}, 'address': {'default': 'Unknown', 'maxLength': 100, 'title': \"The user's address\", 'type': 'string'}, 'signup_ts': {'anyOf': [{'type': 'string'}, {'type': 'null'}], 'default': None, 'title': 'Signup Ts'}, 'friends': {'items': {'type': 'integer'}, 'title': 'Friends', 'type': 'array'}}, 'required': ['id', 'name'], 'title': 'User', 'type': 'object'}\n"
     ]
    }
   ],
   "source": [
    "#### pydentic fields: customizationa and constraints\n",
    "\n",
    "from pydantic import BaseModel, Field\n",
    "from typing import List, Optional\n",
    "\n",
    "class User(BaseModel):\n",
    "    id: int = Field(..., title=\"The unique identifier for a user\", gt=0, lt=1000)\n",
    "    name: str = Field(..., min_length=1, max_length=50)\n",
    "    address: str = Field('Unknown', title=\"The user's address\", max_length=100)\n",
    "    signup_ts: Optional[str] = None\n",
    "    friends: List[int] = Field(default_factory=list)\n",
    "\n",
    "external_data = {\n",
    "    'id': 1230000,\n",
    "    'name': 'John Doe',\n",
    "    'address': '123 Elm St',\n",
    "    'signup_ts': '2023-01-01T00:00:00Z',\n",
    "    'friends': [456, 789]\n",
    "}\n",
    "\n",
    "try:\n",
    "    user = User(**external_data)\n",
    "    print(user)\n",
    "except ValueError as e:\n",
    "    print(\"Validation error:\", e)\n",
    "\n",
    "print(User.model_json_schema())"
   ]
  }
 ],
 "metadata": {
  "kernelspec": {
   "display_name": "Python 3",
   "language": "python",
   "name": "python3"
  },
  "language_info": {
   "codemirror_mode": {
    "name": "ipython",
    "version": 3
   },
   "file_extension": ".py",
   "mimetype": "text/x-python",
   "name": "python",
   "nbconvert_exporter": "python",
   "pygments_lexer": "ipython3",
   "version": "3.12.0"
  }
 },
 "nbformat": 4,
 "nbformat_minor": 5
}
