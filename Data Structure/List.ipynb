{
 "cells": [
  {
   "cell_type": "code",
   "execution_count": 4,
   "id": "774f26a6",
   "metadata": {},
   "outputs": [
    {
     "name": "stdout",
     "output_type": "stream",
     "text": [
      "The Great Gatsby\n",
      "To Kill a Mockingbird\n"
     ]
    }
   ],
   "source": [
    "books=[\"The Great Gatsby\", \"To Kill a Mockingbird\", \"1984\"]\n",
    "print(books[0]) \n",
    "print(books[1]) "
   ]
  },
  {
   "cell_type": "code",
   "execution_count": 8,
   "id": "bfaab028",
   "metadata": {},
   "outputs": [
    {
     "name": "stdout",
     "output_type": "stream",
     "text": [
      "['To Kill a Mockingbird']\n",
      "[]\n"
     ]
    }
   ],
   "source": [
    "print(books[1:2])\n",
    "print(books[-1:2])"
   ]
  },
  {
   "cell_type": "code",
   "execution_count": 9,
   "id": "8a8b8477",
   "metadata": {},
   "outputs": [
    {
     "name": "stdout",
     "output_type": "stream",
     "text": [
      "['The Great Gatsby', 'Pride and Prejudice', '1984']\n"
     ]
    }
   ],
   "source": [
    "books[1]=\"Pride and Prejudice\"\n",
    "print(books)"
   ]
  },
  {
   "cell_type": "code",
   "execution_count": 10,
   "id": "83702219",
   "metadata": {},
   "outputs": [
    {
     "name": "stdout",
     "output_type": "stream",
     "text": [
      "['The Great Gatsby', 'Pride and Prejudice', 'The Catcher in the Rye']\n"
     ]
    }
   ],
   "source": [
    "books[1:] = [\"Pride and Prejudice\", \"The Catcher in the Rye\"]\n",
    "print(books)"
   ]
  },
  {
   "cell_type": "code",
   "execution_count": 11,
   "id": "46221361",
   "metadata": {},
   "outputs": [
    {
     "name": "stdout",
     "output_type": "stream",
     "text": [
      "['The Great Gatsby', 'n', 'e', 'w', ' ', 'b', 'o', 'o', 'k']\n"
     ]
    }
   ],
   "source": [
    "books[1:] = \"new book\"\n",
    "print(books)"
   ]
  },
  {
   "cell_type": "code",
   "execution_count": 12,
   "id": "3d58da5d",
   "metadata": {},
   "outputs": [
    {
     "name": "stdout",
     "output_type": "stream",
     "text": [
      "['The Great Gatsby', ['new book'], 'e', 'w', ' ', 'b', 'o', 'o', 'k']\n"
     ]
    }
   ],
   "source": [
    "books[1] = [\"new book\"]\n",
    "print(books)"
   ]
  }
 ],
 "metadata": {
  "kernelspec": {
   "display_name": "Python 3",
   "language": "python",
   "name": "python3"
  },
  "language_info": {
   "codemirror_mode": {
    "name": "ipython",
    "version": 3
   },
   "file_extension": ".py",
   "mimetype": "text/x-python",
   "name": "python",
   "nbconvert_exporter": "python",
   "pygments_lexer": "ipython3",
   "version": "3.12.0"
  }
 },
 "nbformat": 4,
 "nbformat_minor": 5
}
