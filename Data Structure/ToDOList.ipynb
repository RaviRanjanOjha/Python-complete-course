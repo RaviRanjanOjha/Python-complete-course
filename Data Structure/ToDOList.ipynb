{
 "cells": [
  {
   "cell_type": "code",
   "execution_count": 9,
   "id": "fa40abde",
   "metadata": {},
   "outputs": [
    {
     "name": "stdout",
     "output_type": "stream",
     "text": [
      "['clean room', 'make breakfast', 'night walk', 'read books']\n",
      "['make breakfast', 'night walk', 'read books']\n",
      "complete the task please\n",
      "-make breakfast\n",
      "-night walk\n",
      "-read books\n"
     ]
    }
   ],
   "source": [
    "to_do_list = [\"clean room\", \"make breakfast\", \"night walk\"]\n",
    "\n",
    "\n",
    "## add task in to do list\n",
    "to_do_list.append(\"read books\")\n",
    "print(to_do_list)\n",
    "\n",
    "## remove completed task\n",
    "to_do_list.remove(\"clean room\")\n",
    "print(to_do_list)\n",
    "\n",
    "## task reminder\n",
    "if \"make breakfast\" in to_do_list:\n",
    "    print('complete the task please')\n",
    "\n",
    "## pending tasks\n",
    "for task in to_do_list:\n",
    "    print(f\"-{task}\")"
   ]
  }
 ],
 "metadata": {
  "kernelspec": {
   "display_name": "Python 3",
   "language": "python",
   "name": "python3"
  },
  "language_info": {
   "codemirror_mode": {
    "name": "ipython",
    "version": 3
   },
   "file_extension": ".py",
   "mimetype": "text/x-python",
   "name": "python",
   "nbconvert_exporter": "python",
   "pygments_lexer": "ipython3",
   "version": "3.12.0"
  }
 },
 "nbformat": 4,
 "nbformat_minor": 5
}
