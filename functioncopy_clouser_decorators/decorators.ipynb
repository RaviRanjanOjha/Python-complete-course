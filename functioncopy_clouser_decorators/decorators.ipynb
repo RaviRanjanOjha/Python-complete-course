{
 "cells": [
  {
   "cell_type": "code",
   "execution_count": null,
   "id": "d664da99",
   "metadata": {},
   "outputs": [
    {
     "name": "stdout",
     "output_type": "stream",
     "text": [
      "inner welcome\n",
      "Welcome to the induction program\n"
     ]
    }
   ],
   "source": [
    "def welcome(func):\n",
    "    msh = \"Python learning\"\n",
    "    def inner_welcome():\n",
    "        print(\"inner welcome\")\n",
    "        func()\n",
    "    return inner_welcome()\n",
    "\n",
    "\n",
    "def induction():\n",
    "    print(\"Welcome to the induction program\")\n",
    "\n",
    "welcome(induction) ## function passed as argument. 1 way to call \"induction\" function inside \"welcome\" fucntion.\n"
   ]
  },
  {
   "cell_type": "code",
   "execution_count": null,
   "id": "2b47ff04",
   "metadata": {},
   "outputs": [
    {
     "name": "stdout",
     "output_type": "stream",
     "text": [
      "Welcome to the induction program\n",
      "Hello user !!\n"
     ]
    }
   ],
   "source": [
    "## second way to call \"induction\" function inside \"welcome\" function.\n",
    "def induction(func):\n",
    "    print(\"Welcome to the induction program\")\n",
    "    func()\n",
    "\n",
    "\n",
    "@induction ## decorator, nothing but function calling with param as below\n",
    "def welcome():\n",
    "    print(\"Hello user !!\")\n",
    "\n",
    "\n",
    "\n"
   ]
  },
  {
   "cell_type": "code",
   "execution_count": 18,
   "id": "e8f530b1",
   "metadata": {},
   "outputs": [
    {
     "name": "stdout",
     "output_type": "stream",
     "text": [
      "Hello Alice!\n",
      "Hello Alice!\n",
      "Hello Alice!\n"
     ]
    }
   ],
   "source": [
    "## decorator with arguments\n",
    "def repeat(num_times):\n",
    "    def decorator_repeat(func):\n",
    "        def wrapper(*args, **kwargs):\n",
    "            for _ in range(num_times):\n",
    "                func(*args, **kwargs)\n",
    "        return wrapper\n",
    "    return decorator_repeat\n",
    "\n",
    "@repeat(num_times=3)\n",
    "def greet(name):\n",
    "    print(f\"Hello {name}!\")\n",
    "\n",
    "greet(\"Alice\")"
   ]
  }
 ],
 "metadata": {
  "kernelspec": {
   "display_name": "Python 3",
   "language": "python",
   "name": "python3"
  },
  "language_info": {
   "codemirror_mode": {
    "name": "ipython",
    "version": 3
   },
   "file_extension": ".py",
   "mimetype": "text/x-python",
   "name": "python",
   "nbconvert_exporter": "python",
   "pygments_lexer": "ipython3",
   "version": "3.12.0"
  }
 },
 "nbformat": 4,
 "nbformat_minor": 5
}
