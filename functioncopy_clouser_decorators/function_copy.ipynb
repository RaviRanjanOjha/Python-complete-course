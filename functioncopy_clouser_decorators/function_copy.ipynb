{
 "cells": [
  {
   "cell_type": "code",
   "execution_count": null,
   "id": "b0eb9c1e",
   "metadata": {},
   "outputs": [
    {
     "name": "stdout",
     "output_type": "stream",
     "text": [
      "Python learning\n",
      "Python learning\n",
      "Python learning\n"
     ]
    }
   ],
   "source": [
    "def welcome():\n",
    "    return \"Python learning\"\n",
    "\n",
    "##welcome()\n",
    "\n",
    "wel=welcome() ## copied to another memory\n",
    "print(wel)\n",
    "\n",
    "del welcome  ## deleted in one memory\n",
    "print(wel)\n",
    "print(wel)"
   ]
  }
 ],
 "metadata": {
  "kernelspec": {
   "display_name": "Python 3",
   "language": "python",
   "name": "python3"
  },
  "language_info": {
   "codemirror_mode": {
    "name": "ipython",
    "version": 3
   },
   "file_extension": ".py",
   "mimetype": "text/x-python",
   "name": "python",
   "nbconvert_exporter": "python",
   "pygments_lexer": "ipython3",
   "version": "3.12.0"
  }
 },
 "nbformat": 4,
 "nbformat_minor": 5
}
