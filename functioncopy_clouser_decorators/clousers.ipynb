{
 "cells": [
  {
   "cell_type": "code",
   "execution_count": null,
   "id": "0883eb5c",
   "metadata": {},
   "outputs": [
    {
     "name": "stdout",
     "output_type": "stream",
     "text": [
      "inner welcome\n",
      "Python learning\n"
     ]
    }
   ],
   "source": [
    "def welcome():\n",
    "    msh = \"Python learning\"\n",
    "    def inner_welcome():\n",
    "        print(\"inner welcome\")\n",
    "        print(msh) ## can be accessed by inner function\n",
    "    return inner_welcome()\n",
    "\n",
    "welcome()\n"
   ]
  },
  {
   "cell_type": "code",
   "execution_count": 3,
   "id": "0d8fd1fe",
   "metadata": {},
   "outputs": [
    {
     "name": "stdout",
     "output_type": "stream",
     "text": [
      "inner welcome\n",
      "Python learning\n"
     ]
    }
   ],
   "source": [
    "def welcome(func):\n",
    "    msh = \"Python learning\"\n",
    "    def inner_welcome():\n",
    "        print(\"inner welcome\")\n",
    "        func(msh) ## function passed as argument. \"func\" will be replaced by \"print\"\n",
    "    return inner_welcome()\n",
    "\n",
    "welcome(print)"
   ]
  }
 ],
 "metadata": {
  "kernelspec": {
   "display_name": "Python 3",
   "language": "python",
   "name": "python3"
  },
  "language_info": {
   "codemirror_mode": {
    "name": "ipython",
    "version": 3
   },
   "file_extension": ".py",
   "mimetype": "text/x-python",
   "name": "python",
   "nbconvert_exporter": "python",
   "pygments_lexer": "ipython3",
   "version": "3.12.0"
  }
 },
 "nbformat": 4,
 "nbformat_minor": 5
}
