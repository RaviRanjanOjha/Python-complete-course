{
 "cells": [
  {
   "cell_type": "code",
   "execution_count": null,
   "id": "bc6fddb5",
   "metadata": {},
   "outputs": [
    {
     "name": "stdout",
     "output_type": "stream",
     "text": [
      "2.0\n"
     ]
    }
   ],
   "source": [
    "## Simple Calculator\n",
    "## nested conditions\n",
    "\n",
    "number1 = float(input(\"Wnter the first number\"))\n",
    "number2 = float(input(\"Enter the second number\"))\n",
    "operation = input(\"Enter the operation +,-,/ or *\")\n",
    "\n",
    "result = 0\n",
    "\n",
    "if operation==\"+\":\n",
    "    result = number1+number2\n",
    "elif operation == \"-\":\n",
    "    result = number1-number2\n",
    "elif operation == \"/\":\n",
    "    result = number1 / number2\n",
    "elif operation == \"*\":\n",
    "    result = number1 * number2\n",
    "else:\n",
    "    result = \"Not a valid operation\"  \n",
    "\n",
    "print(result)  \n",
    "\n"
   ]
  }
 ],
 "metadata": {
  "kernelspec": {
   "display_name": "Python 3",
   "language": "python",
   "name": "python3"
  },
  "language_info": {
   "codemirror_mode": {
    "name": "ipython",
    "version": 3
   },
   "file_extension": ".py",
   "mimetype": "text/x-python",
   "name": "python",
   "nbconvert_exporter": "python",
   "pygments_lexer": "ipython3",
   "version": "3.12.0"
  }
 },
 "nbformat": 4,
 "nbformat_minor": 5
}
