{
 "cells": [
  {
   "cell_type": "code",
   "execution_count": 2,
   "id": "4fe605a2",
   "metadata": {},
   "outputs": [
    {
     "name": "stdout",
     "output_type": "stream",
     "text": [
      "4.0\n"
     ]
    }
   ],
   "source": [
    "import math\n",
    "print(math.sqrt(16))"
   ]
  },
  {
   "cell_type": "code",
   "execution_count": 3,
   "id": "499b4aa6",
   "metadata": {},
   "outputs": [
    {
     "name": "stdout",
     "output_type": "stream",
     "text": [
      "4.0\n",
      "3.141592653589793\n"
     ]
    }
   ],
   "source": [
    "from math import sqrt,pi\n",
    "print(sqrt(16))\n",
    "print(pi)"
   ]
  },
  {
   "cell_type": "code",
   "execution_count": 4,
   "id": "1e9f1044",
   "metadata": {},
   "outputs": [
    {
     "name": "stdout",
     "output_type": "stream",
     "text": [
      "4.0\n",
      "3.141592653589793\n"
     ]
    }
   ],
   "source": [
    "from math import *\n",
    "print(sqrt(16))\n",
    "print(pi)"
   ]
  },
  {
   "cell_type": "code",
   "execution_count": 9,
   "id": "df17210e",
   "metadata": {},
   "outputs": [
    {
     "name": "stdout",
     "output_type": "stream",
     "text": [
      "[1 2 3 4]\n"
     ]
    }
   ],
   "source": [
    "import numpy as np\n",
    "print(np.array([1,2,3,4]))"
   ]
  },
  {
   "cell_type": "code",
   "execution_count": 1,
   "id": "0480f349",
   "metadata": {},
   "outputs": [
    {
     "name": "stdout",
     "output_type": "stream",
     "text": [
      "15\n",
      "5\n",
      "50\n",
      "2.0\n",
      "Division by zero error\n"
     ]
    }
   ],
   "source": [
    "from package.calculator import *\n",
    "print(add(5, 10))\n",
    "print(subtract(10, 5))\n",
    "print(multiply(5, 10))\n",
    "print(divide(10, 5))\n",
    "print(divide(10, 0))"
   ]
  },
  {
   "cell_type": "code",
   "execution_count": 2,
   "id": "1c7b0489",
   "metadata": {},
   "outputs": [
    {
     "name": "stdout",
     "output_type": "stream",
     "text": [
      "Hello, Alice!\n"
     ]
    }
   ],
   "source": [
    "from package.subpackage.name_function import *\n",
    "print(name_function(\"Alice\"))"
   ]
  }
 ],
 "metadata": {
  "kernelspec": {
   "display_name": "Python 3",
   "language": "python",
   "name": "python3"
  },
  "language_info": {
   "codemirror_mode": {
    "name": "ipython",
    "version": 3
   },
   "file_extension": ".py",
   "mimetype": "text/x-python",
   "name": "python",
   "nbconvert_exporter": "python",
   "pygments_lexer": "ipython3",
   "version": "3.12.0"
  }
 },
 "nbformat": 4,
 "nbformat_minor": 5
}
