{
 "cells": [
  {
   "cell_type": "code",
   "execution_count": 5,
   "id": "d7664a2e",
   "metadata": {},
   "outputs": [
    {
     "name": "stdout",
     "output_type": "stream",
     "text": [
      "Cat meows\n",
      "Dog barks\n",
      "Cat meows\n",
      "Dog barks\n"
     ]
    }
   ],
   "source": [
    "## method overriding\n",
    "\n",
    "class Animal:\n",
    "    def speak(self):\n",
    "        return \"Animal speaks\"\n",
    "\n",
    "class Dog(Animal):\n",
    "    def speak(self):\n",
    "        return \"Dog barks\"\n",
    "\n",
    "class Cat(Animal):\n",
    "    def speak(self):\n",
    "        return \"Cat meows\"\n",
    "\n",
    "def animal_speak(animal):\n",
    "    print(animal.speak())\n",
    "\n",
    "cat = Cat()\n",
    "dog = Dog()\n",
    "print(cat.speak())\n",
    "print(dog.speak())\n",
    "animal_speak(cat)\n",
    "animal_speak(dog)\n"
   ]
  },
  {
   "cell_type": "code",
   "execution_count": 23,
   "id": "3e7a5737",
   "metadata": {},
   "outputs": [
    {
     "name": "stdout",
     "output_type": "stream",
     "text": [
      "200\n",
      "314.0\n"
     ]
    }
   ],
   "source": [
    "## polymorphism\n",
    "\n",
    "class Shape:\n",
    "    def area():\n",
    "        print(\"area of the figure\")\n",
    "\n",
    "class Rectangle(Shape):\n",
    "    def __init__(self, height, length):\n",
    "        self.height = height\n",
    "        self.length = length\n",
    "\n",
    "    def area(self):\n",
    "        return self.height * self.length\n",
    "\n",
    "class Circle(Shape):\n",
    "    def __init__(self, radius):\n",
    "        self.radius = radius\n",
    "\n",
    "    def area(self):\n",
    "        return 3.14*self.radius*self.radius\n",
    "\n",
    "def area_of_the_figure(shape):\n",
    "    print(f\"{shape.area()}\")\n",
    "\n",
    "\n",
    "rectanlge = Rectangle(10,20)\n",
    "circl = Circle(10)\n",
    "\n",
    "area_of_the_figure(rectanlge)\n",
    "area_of_the_figure(circl)"
   ]
  },
  {
   "cell_type": "code",
   "execution_count": 31,
   "id": "21d598e4",
   "metadata": {},
   "outputs": [
    {
     "name": "stdout",
     "output_type": "stream",
     "text": [
      "<__main__.Car object at 0x1063f8f50>\n",
      "<__main__.Motercycle object at 0x1063fabd0>\n",
      "Car engine started\n",
      "Moter cycle engine started\n"
     ]
    }
   ],
   "source": [
    "## Polymorphism with abstract base class (formaly as Interface in other languages)\n",
    "\n",
    "from abc import ABC, abstractmethod\n",
    "\n",
    "## define an abstract base class\n",
    "class Vehical(ABC):\n",
    "    @abstractmethod\n",
    "    def start_engine(self):\n",
    "        pass\n",
    "\n",
    "## derived class 1\n",
    "class Car(Vehical):\n",
    "    def start_engine(self):\n",
    "        return \"Car engine started\"\n",
    "\n",
    "## derived class 2\n",
    "class Motercycle(Vehical):\n",
    "    def start_engine(self):\n",
    "        return \"Moter cycle engine started\"\n",
    "\n",
    "\n",
    "def abstruct_class_start_vehical(vehical):\n",
    "    return vehical.start_engine()\n",
    "\n",
    "\n",
    "car = Car()\n",
    "motercycle = Motercycle()\n",
    "\n",
    "print(car)\n",
    "print(motercycle)\n",
    "\n",
    "print(abstruct_class_start_vehical(car))\n",
    "print(abstruct_class_start_vehical(motercycle))\n"
   ]
  }
 ],
 "metadata": {
  "kernelspec": {
   "display_name": "Python 3",
   "language": "python",
   "name": "python3"
  },
  "language_info": {
   "codemirror_mode": {
    "name": "ipython",
    "version": 3
   },
   "file_extension": ".py",
   "mimetype": "text/x-python",
   "name": "python",
   "nbconvert_exporter": "python",
   "pygments_lexer": "ipython3",
   "version": "3.12.0"
  }
 },
 "nbformat": 4,
 "nbformat_minor": 5
}
