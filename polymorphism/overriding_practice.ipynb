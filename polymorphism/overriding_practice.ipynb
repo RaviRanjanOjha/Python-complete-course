{
 "cells": [
  {
   "cell_type": "code",
   "execution_count": 6,
   "id": "ed54aa6c",
   "metadata": {},
   "outputs": [
    {
     "name": "stdout",
     "output_type": "stream",
     "text": [
      "200\n",
      "314.0\n"
     ]
    }
   ],
   "source": [
    "class Shape:\n",
    "    def __init__(self, shape):\n",
    "        self.shape = shape\n",
    "\n",
    "    def area(self):\n",
    "        return f\"the shape is {self.shape}\"\n",
    "\n",
    "class Rectangle(Shape):\n",
    "    def __init__(self, shape, length, height):\n",
    "        super().__init__(shape)\n",
    "        self.length = length\n",
    "        self.height = height\n",
    "\n",
    "    def area(self):\n",
    "        return self.length*self.height\n",
    "\n",
    "\n",
    "class Circle(Shape):\n",
    "    def __init__(self, shape, radius):\n",
    "        super().__init__(shape)\n",
    "        self.radius = radius\n",
    "\n",
    "    def area(self):\n",
    "        return 3.14*self.radius*self.radius\n",
    "\n",
    "\n",
    "rectangle = Rectangle(\"rectangle\",10,20)\n",
    "circle = Circle(\"circla\",10)\n",
    "\n",
    "print(rectangle.area())\n",
    "print(circle.area())\n"
   ]
  }
 ],
 "metadata": {
  "kernelspec": {
   "display_name": "Python 3",
   "language": "python",
   "name": "python3"
  },
  "language_info": {
   "codemirror_mode": {
    "name": "ipython",
    "version": 3
   },
   "file_extension": ".py",
   "mimetype": "text/x-python",
   "name": "python",
   "nbconvert_exporter": "python",
   "pygments_lexer": "ipython3",
   "version": "3.12.0"
  }
 },
 "nbformat": 4,
 "nbformat_minor": 5
}
