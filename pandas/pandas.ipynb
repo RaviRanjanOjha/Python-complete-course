{
 "cells": [
  {
   "cell_type": "code",
   "execution_count": 2,
   "id": "e24e7e93",
   "metadata": {},
   "outputs": [
    {
     "name": "stdout",
     "output_type": "stream",
     "text": [
      "Collecting pandas\n",
      "  Using cached pandas-2.3.2-cp312-cp312-macosx_11_0_arm64.whl.metadata (91 kB)\n",
      "Requirement already satisfied: numpy>=1.26.0 in /Users/raviranjanojha/Documents/Python-complete-course/venv/lib/python3.12/site-packages (from pandas) (2.3.2)\n",
      "Requirement already satisfied: python-dateutil>=2.8.2 in /Users/raviranjanojha/Documents/Python-complete-course/venv/lib/python3.12/site-packages (from pandas) (2.9.0.post0)\n",
      "Collecting pytz>=2020.1 (from pandas)\n",
      "  Using cached pytz-2025.2-py2.py3-none-any.whl.metadata (22 kB)\n",
      "Collecting tzdata>=2022.7 (from pandas)\n",
      "  Using cached tzdata-2025.2-py2.py3-none-any.whl.metadata (1.4 kB)\n",
      "Requirement already satisfied: six>=1.5 in /Users/raviranjanojha/Documents/Python-complete-course/venv/lib/python3.12/site-packages (from python-dateutil>=2.8.2->pandas) (1.17.0)\n",
      "Using cached pandas-2.3.2-cp312-cp312-macosx_11_0_arm64.whl (10.7 MB)\n",
      "Using cached pytz-2025.2-py2.py3-none-any.whl (509 kB)\n",
      "Using cached tzdata-2025.2-py2.py3-none-any.whl (347 kB)\n",
      "Installing collected packages: pytz, tzdata, pandas\n",
      "\u001b[2K   \u001b[90m━━━━━━━━━━━━━━━━━━━━━━━━━━━━━━━━━━━━━━━━\u001b[0m \u001b[32m3/3\u001b[0m [pandas]2m2/3\u001b[0m [pandas]\n",
      "\u001b[1A\u001b[2KSuccessfully installed pandas-2.3.2 pytz-2025.2 tzdata-2025.2\n"
     ]
    }
   ],
   "source": [
    "!python3 -m pip install pandas"
   ]
  },
  {
   "cell_type": "code",
   "execution_count": 53,
   "id": "28742c6d",
   "metadata": {},
   "outputs": [
    {
     "name": "stdout",
     "output_type": "stream",
     "text": [
      "Original Series:\n",
      " 0    1\n",
      "1    2\n",
      "2    3\n",
      "3    4\n",
      "4    5\n",
      "dtype: int64\n"
     ]
    }
   ],
   "source": [
    "## series\n",
    "import pandas as pd\n",
    "data = [1, 2, 3, 4, 5]\n",
    "s = pd.Series(data)\n",
    "print(\"Original Series:\\n\", s)\n"
   ]
  },
  {
   "cell_type": "code",
   "execution_count": 5,
   "id": "30462ebe",
   "metadata": {},
   "outputs": [
    {
     "name": "stdout",
     "output_type": "stream",
     "text": [
      "Series from Dictionary:\n",
      " a    1\n",
      "b    2\n",
      "c    3\n",
      "dtype: int64\n"
     ]
    }
   ],
   "source": [
    "## create series from dictionary\n",
    "data = {'a': 1, 'b': 2, 'c': 3}\n",
    "s = pd.Series(data)\n",
    "print(\"Series from Dictionary:\\n\", s)\n"
   ]
  },
  {
   "cell_type": "code",
   "execution_count": 6,
   "id": "c8ec390a",
   "metadata": {},
   "outputs": [
    {
     "name": "stdout",
     "output_type": "stream",
     "text": [
      "Series from List with Custom Index:\n",
      " a    1\n",
      "b    2\n",
      "c    3\n",
      "d    4\n",
      "e    5\n",
      "dtype: int64\n"
     ]
    }
   ],
   "source": [
    "data = [1, 2, 3, 4, 5]\n",
    "index = ['a', 'b', 'c', 'd', 'e']\n",
    "s = pd.Series(data, index=index)\n",
    "print(\"Series from List with Custom Index:\\n\", s)\n"
   ]
  },
  {
   "cell_type": "code",
   "execution_count": 7,
   "id": "6c434408",
   "metadata": {},
   "outputs": [
    {
     "name": "stdout",
     "output_type": "stream",
     "text": [
      "DataFrame from Dictionary:\n",
      "       name  age         city\n",
      "0    Alice   25     New York\n",
      "1      Bob   30  Los Angeles\n",
      "2  Charlie   35      Chicago\n"
     ]
    }
   ],
   "source": [
    "## dataframe\n",
    "data={\n",
    "    'name': ['Alice', 'Bob', 'Charlie'],\n",
    "    'age': [25, 30, 35],\n",
    "    'city': ['New York', 'Los Angeles', 'Chicago']\n",
    "}\n",
    "\n",
    "df = pd.DataFrame(data)\n",
    "print(\"DataFrame from Dictionary:\\n\", df)\n"
   ]
  },
  {
   "cell_type": "code",
   "execution_count": 51,
   "id": "116fc41f",
   "metadata": {},
   "outputs": [
    {
     "name": "stdout",
     "output_type": "stream",
     "text": [
      "DataFrame from List of Dictionaries:\n",
      "       name  age         city\n",
      "0    Alice   25     New York\n",
      "1      Bob   30  Los Angeles\n",
      "2  Charlie   35      Chicago\n"
     ]
    }
   ],
   "source": [
    "## create dataframe form list of dictonaries\n",
    "data = [\n",
    "    {'name': 'Alice', 'age': 25, 'city': 'New York'},\n",
    "    {'name': 'Bob', 'age': 30, 'city': 'Los Angeles'},\n",
    "    {'name': 'Charlie', 'age': 35, 'city': 'Chicago'}\n",
    "]\n",
    "\n",
    "df = pd.DataFrame(data)\n",
    "print(\"DataFrame from List of Dictionaries:\\n\", df)\n"
   ]
  },
  {
   "cell_type": "code",
   "execution_count": 42,
   "id": "69ae9ddb",
   "metadata": {},
   "outputs": [
    {
     "name": "stdout",
     "output_type": "stream",
     "text": [
      "DataFrame from Excel File:\n",
      "     CompactPNL (2)(PNL Base Data) (2)     Unnamed: 1  \\\n",
      "0                          Project ID  Customer Name   \n",
      "1                         Y.IN2301702     Customer 1   \n",
      "2                         Y.IN2301702     Customer 1   \n",
      "3                         Y.IN2301702     Customer 1   \n",
      "4                         Y.IN2301702     Customer 1   \n",
      "..                                ...            ...   \n",
      "98                        Z.IN2301551   Customer 315   \n",
      "99                        Z.IN2301551   Customer 315   \n",
      "100                       Z.IN2301551   Customer 315   \n",
      "101                       Z.IN2301551   Customer 315   \n",
      "102                       Z.IN2301551   Customer 315   \n",
      "\n",
      "                     Unnamed: 2       Unnamed: 3       Unnamed: 4  \\\n",
      "0    Customer Group Description  Delivery IBU ID  Delivery IBG ID   \n",
      "1              Customer Group 1       DEA-D-4001       DEA-D-3004   \n",
      "2              Customer Group 1       DEA-D-4001       DEA-D-3004   \n",
      "3              Customer Group 1       DEA-D-4001       DEA-D-3004   \n",
      "4              Customer Group 1       DEA-D-4001       DEA-D-3004   \n",
      "..                          ...              ...              ...   \n",
      "98           Customer Group 234       DEA-N-4002       DEA-N-3003   \n",
      "99           Customer Group 234       DEA-N-4002       DEA-N-3003   \n",
      "100          Customer Group 234       DEA-N-4002       DEA-N-3003   \n",
      "101          Customer Group 234       DEA-N-4002       DEA-N-3003   \n",
      "102          Customer Group 234       DEA-N-4002       DEA-N-3003   \n",
      "\n",
      "             Unnamed: 5    Unnamed: 6   Unnamed: 7     Unnamed: 8  \\\n",
      "0    Proj Pricing Model  Fiscal Month  Fiscal Year       Vertical   \n",
      "1                   T&M           JAN         2024  MANUFACTURING   \n",
      "2                   T&M           JAN         2024  MANUFACTURING   \n",
      "3                   T&M           FEB         2024  MANUFACTURING   \n",
      "4                   T&M           FEB         2024  MANUFACTURING   \n",
      "..                  ...           ...          ...            ...   \n",
      "98                  NaN           FEB         2024            COR   \n",
      "99                  NaN           MAR         2024            COR   \n",
      "100                 NaN        APR'25         2025            COR   \n",
      "101                 NaN        MAY'25         2025            COR   \n",
      "102                 NaN        JUN'25         2025            COR   \n",
      "\n",
      "       Unnamed: 9   Unnamed: 10        Unnamed: 11 Unnamed: 12  \\\n",
      "0    Sales SBU ID  Sales IBG ID  Contract Sub Type     Quarter   \n",
      "1             ASV         SMFG1       T&M STAFFING       Q4'25   \n",
      "2      EMEA-SALES          SICE       T&M STAFFING       Q4'25   \n",
      "3             ASV         SMFG1       T&M STAFFING       Q4'25   \n",
      "4      EMEA-SALES          SICE       T&M STAFFING       Q4'25   \n",
      "..            ...           ...                ...         ...   \n",
      "98      CORPSALES      IBG_CORP                NaN       Q4'25   \n",
      "99      CORPSALES      IBG_CORP                NaN       Q4'25   \n",
      "100     CORPSALES      IBG_CORP                NaN       Q1'26   \n",
      "101     CORPSALES      IBG_CORP                NaN       Q1'26   \n",
      "102     CORPSALES      IBG_CORP                NaN       Q1'26   \n",
      "\n",
      "           Unnamed: 13      Unnamed: 14          Unnamed: 15     Unnamed: 16  \n",
      "0     Revenue Offshore   Revenue Onsite   Revenue Bought Out   Revenue Total  \n",
      "1            -10126.62                1                    1       -10126.62  \n",
      "2             10126.62                1                    1        10126.62  \n",
      "3             -14965.7                1                    1        -14965.7  \n",
      "4              14965.7                1                   11         14965.7  \n",
      "..                 ...              ...                  ...             ...  \n",
      "98                   1                1                    1               1  \n",
      "99                   1               11                    2               1  \n",
      "100                  1                2                    1               1  \n",
      "101                  2                3                    3               2  \n",
      "102                  3                4                    4               3  \n",
      "\n",
      "[103 rows x 17 columns]\n",
      "Column Names:\n",
      " Index(['CompactPNL (2)(PNL Base Data) (2)', 'Unnamed: 1', 'Unnamed: 2',\n",
      "       'Unnamed: 3', 'Unnamed: 4', 'Unnamed: 5', 'Unnamed: 6', 'Unnamed: 7',\n",
      "       'Unnamed: 8', 'Unnamed: 9', 'Unnamed: 10', 'Unnamed: 11', 'Unnamed: 12',\n",
      "       'Unnamed: 13', 'Unnamed: 14', 'Unnamed: 15', 'Unnamed: 16'],\n",
      "      dtype='object')\n",
      "Data Types:\n",
      "   CompactPNL (2)(PNL Base Data) (2)     Unnamed: 1  \\\n",
      "0                        Project ID  Customer Name   \n",
      "1                       Y.IN2301702     Customer 1   \n",
      "2                       Y.IN2301702     Customer 1   \n",
      "3                       Y.IN2301702     Customer 1   \n",
      "4                       Y.IN2301702     Customer 1   \n",
      "\n",
      "                   Unnamed: 2       Unnamed: 3       Unnamed: 4  \\\n",
      "0  Customer Group Description  Delivery IBU ID  Delivery IBG ID   \n",
      "1            Customer Group 1       DEA-D-4001       DEA-D-3004   \n",
      "2            Customer Group 1       DEA-D-4001       DEA-D-3004   \n",
      "3            Customer Group 1       DEA-D-4001       DEA-D-3004   \n",
      "4            Customer Group 1       DEA-D-4001       DEA-D-3004   \n",
      "\n",
      "           Unnamed: 5    Unnamed: 6   Unnamed: 7     Unnamed: 8    Unnamed: 9  \\\n",
      "0  Proj Pricing Model  Fiscal Month  Fiscal Year       Vertical  Sales SBU ID   \n",
      "1                 T&M           JAN         2024  MANUFACTURING           ASV   \n",
      "2                 T&M           JAN         2024  MANUFACTURING    EMEA-SALES   \n",
      "3                 T&M           FEB         2024  MANUFACTURING           ASV   \n",
      "4                 T&M           FEB         2024  MANUFACTURING    EMEA-SALES   \n",
      "\n",
      "    Unnamed: 10        Unnamed: 11 Unnamed: 12        Unnamed: 13  \\\n",
      "0  Sales IBG ID  Contract Sub Type     Quarter   Revenue Offshore   \n",
      "1         SMFG1       T&M STAFFING       Q4'25          -10126.62   \n",
      "2          SICE       T&M STAFFING       Q4'25           10126.62   \n",
      "3         SMFG1       T&M STAFFING       Q4'25           -14965.7   \n",
      "4          SICE       T&M STAFFING       Q4'25            14965.7   \n",
      "\n",
      "       Unnamed: 14          Unnamed: 15     Unnamed: 16  \n",
      "0   Revenue Onsite   Revenue Bought Out   Revenue Total  \n",
      "1                1                    1       -10126.62  \n",
      "2                1                    1        10126.62  \n",
      "3                1                    1        -14965.7  \n",
      "4                1                   11         14965.7  \n"
     ]
    }
   ],
   "source": [
    "## read data from excel file\n",
    "df = pd.read_excel(\"data.xlsx\")\n",
    "print(\"DataFrame from Excel File:\\n\", df)\n",
    "print(\"Column Names:\\n\", df.columns)\n",
    "print(\"Data Types:\\n\", df.head(5))\n"
   ]
  },
  {
   "cell_type": "code",
   "execution_count": 10,
   "id": "af85bf4b",
   "metadata": {},
   "outputs": [
    {
     "name": "stdout",
     "output_type": "stream",
     "text": [
      "Collecting openpyxl\n",
      "  Using cached openpyxl-3.1.5-py2.py3-none-any.whl.metadata (2.5 kB)\n",
      "Collecting et-xmlfile (from openpyxl)\n",
      "  Using cached et_xmlfile-2.0.0-py3-none-any.whl.metadata (2.7 kB)\n",
      "Using cached openpyxl-3.1.5-py2.py3-none-any.whl (250 kB)\n",
      "Using cached et_xmlfile-2.0.0-py3-none-any.whl (18 kB)\n",
      "Installing collected packages: et-xmlfile, openpyxl\n",
      "\u001b[2K   \u001b[90m━━━━━━━━━━━━━━━━━━━━━━━━━━━━━━━━━━━━━━━━\u001b[0m \u001b[32m2/2\u001b[0m [openpyxl]1/2\u001b[0m [openpyxl]\n",
      "\u001b[1A\u001b[2KSuccessfully installed et-xmlfile-2.0.0 openpyxl-3.1.5\n"
     ]
    }
   ],
   "source": [
    "!python3 -m pip install openpyxl\n"
   ]
  },
  {
   "cell_type": "code",
   "execution_count": 25,
   "id": "ba97ba8d",
   "metadata": {},
   "outputs": [
    {
     "name": "stdout",
     "output_type": "stream",
     "text": [
      "0      Alice\n",
      "1        Bob\n",
      "2    Charlie\n",
      "Name: name, dtype: object\n",
      "      name  age\n",
      "0    Alice   25\n",
      "1      Bob   30\n",
      "2  Charlie   35\n",
      "--\n",
      "name       Alice\n",
      "age           25\n",
      "city    New York\n",
      "Name: 0, dtype: object\n",
      "--\n",
      "0      Alice\n",
      "1        Bob\n",
      "2    Charlie\n",
      "Name: name, dtype: object\n",
      "--\n",
      "Alice\n",
      "--\n",
      "Alice\n"
     ]
    }
   ],
   "source": [
    "## accessing data from dataframe\n",
    "data\n",
    "print(df['name'])  # Accessing a single column\n",
    "print(df[['name', 'age']])  # Accessing multiple columns\n",
    "print(\"--\")\n",
    "print(df.iloc[0])  # Accessing a single row\n",
    "print(\"--\")\n",
    "print(df.iloc[:, 0])  # Accessing a single column by index\n",
    "print(\"--\")\n",
    "print(df.iloc[0, 0])  # Accessing a single value by row and column index\n",
    "print(\"--\")\n",
    "print(df.loc[0, 'name'])  # Accessing a single value by row label and column label"
   ]
  },
  {
   "cell_type": "code",
   "execution_count": 27,
   "id": "61f9a039",
   "metadata": {},
   "outputs": [
    {
     "name": "stdout",
     "output_type": "stream",
     "text": [
      "Alice\n",
      "Alice\n",
      "Los Angeles\n"
     ]
    }
   ],
   "source": [
    "## accessing specific element\n",
    "print(df.at[0, 'name'])  # Accessing a single value by row label and column label\n",
    "print(df.iat[0, 0])  # Accessing a single value by row and column index\n",
    "print(df.iat[1, 2])  # Accessing a single value by row and column index"
   ]
  },
  {
   "cell_type": "code",
   "execution_count": 50,
   "id": "589e9ec4",
   "metadata": {},
   "outputs": [
    {
     "ename": "TypeError",
     "evalue": "'NoneType' object does not support item assignment",
     "output_type": "error",
     "traceback": [
      "\u001b[31m---------------------------------------------------------------------------\u001b[39m",
      "\u001b[31mTypeError\u001b[39m                                 Traceback (most recent call last)",
      "\u001b[36mCell\u001b[39m\u001b[36m \u001b[39m\u001b[32mIn[50]\u001b[39m\u001b[32m, line 2\u001b[39m\n\u001b[32m      1\u001b[39m \u001b[38;5;66;03m## add a column\u001b[39;00m\n\u001b[32m----> \u001b[39m\u001b[32m2\u001b[39m \u001b[43mdf\u001b[49m\u001b[43m[\u001b[49m\u001b[33;43m'\u001b[39;49m\u001b[33;43msalary\u001b[39;49m\u001b[33;43m'\u001b[39;49m\u001b[43m]\u001b[49m = [\u001b[32m50000\u001b[39m, \u001b[32m60000\u001b[39m, \u001b[32m70000\u001b[39m]\n\u001b[32m      3\u001b[39m \u001b[38;5;28mprint\u001b[39m(\u001b[33m\"\u001b[39m\u001b[33mDataFrame after adding new column:\u001b[39m\u001b[38;5;130;01m\\n\u001b[39;00m\u001b[33m\"\u001b[39m, df)\n",
      "\u001b[31mTypeError\u001b[39m: 'NoneType' object does not support item assignment"
     ]
    }
   ],
   "source": [
    "## add a column\n",
    "df['salary'] = [50000, 60000, 70000]\n",
    "print(\"DataFrame after adding new column:\\n\", df)\n"
   ]
  },
  {
   "cell_type": "code",
   "execution_count": 45,
   "id": "bc644246",
   "metadata": {},
   "outputs": [
    {
     "name": "stdout",
     "output_type": "stream",
     "text": [
      "DataFrame after removing column:\n",
      "       name  age         city\n",
      "0    Alice   25     New York\n",
      "1      Bob   30  Los Angeles\n",
      "2  Charlie   35      Chicago\n"
     ]
    }
   ],
   "source": [
    "## remove a column\n",
    "df = df.drop('salary', axis=1)\n",
    "print(\"DataFrame after removing column:\\n\", df)\n"
   ]
  },
  {
   "cell_type": "code",
   "execution_count": 48,
   "id": "963a30ec",
   "metadata": {},
   "outputs": [
    {
     "name": "stdout",
     "output_type": "stream",
     "text": [
      "DataFrame after permanently removing column:\n",
      " None\n"
     ]
    }
   ],
   "source": [
    "## permanent delete\n",
    "df = df.drop('salary', axis=1, inplace=True)\n",
    "print(\"DataFrame after permanently removing column:\\n\", df)\n"
   ]
  },
  {
   "cell_type": "code",
   "execution_count": 52,
   "id": "cc841152",
   "metadata": {},
   "outputs": [
    {
     "name": "stdout",
     "output_type": "stream",
     "text": [
      "DataFrame after adding new column:\n",
      "       name  age         city\n",
      "0    Alice   26     New York\n",
      "1      Bob   31  Los Angeles\n",
      "2  Charlie   36      Chicago\n"
     ]
    }
   ],
   "source": [
    "## add age to the column\n",
    "df['age'] = df['age']+1\n",
    "print(\"DataFrame after adding new column:\\n\", df)\n"
   ]
  }
 ],
 "metadata": {
  "kernelspec": {
   "display_name": "Python 3",
   "language": "python",
   "name": "python3"
  },
  "language_info": {
   "codemirror_mode": {
    "name": "ipython",
    "version": 3
   },
   "file_extension": ".py",
   "mimetype": "text/x-python",
   "name": "python",
   "nbconvert_exporter": "python",
   "pygments_lexer": "ipython3",
   "version": "3.12.0"
  }
 },
 "nbformat": 4,
 "nbformat_minor": 5
}
