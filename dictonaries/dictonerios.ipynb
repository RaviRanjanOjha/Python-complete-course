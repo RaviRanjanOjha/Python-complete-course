{
 "cells": [
  {
   "cell_type": "code",
   "execution_count": 3,
   "id": "c4eee0d1",
   "metadata": {},
   "outputs": [
    {
     "name": "stdout",
     "output_type": "stream",
     "text": [
      "<class 'dict'>\n"
     ]
    }
   ],
   "source": [
    "## dictionary can be created using {} - flower braces\n",
    "empty_dict = {}\n",
    "print(type(empty_dict))"
   ]
  },
  {
   "cell_type": "code",
   "execution_count": 4,
   "id": "a5cd55a1",
   "metadata": {},
   "outputs": [
    {
     "name": "stdout",
     "output_type": "stream",
     "text": [
      "{'name': 'John', 'age': 21, 'city': 'New York'}\n"
     ]
    }
   ],
   "source": [
    "student = {\"name\": \"John\", \"age\": 21, \"city\": \"New York\"}\n",
    "print(student)"
   ]
  },
  {
   "cell_type": "code",
   "execution_count": 6,
   "id": "19190633",
   "metadata": {},
   "outputs": [
    {
     "name": "stdout",
     "output_type": "stream",
     "text": [
      "{'name': 'John', 'age': 22, 'city': 'New York'}\n"
     ]
    }
   ],
   "source": [
    "## key should be unique\n",
    "student = {\"name\": \"John\", \"age\": 21, \"city\": \"New York\", \"age\": 22}\n",
    "print(student)"
   ]
  },
  {
   "cell_type": "code",
   "execution_count": null,
   "id": "7c3d0c59",
   "metadata": {},
   "outputs": [
    {
     "name": "stdout",
     "output_type": "stream",
     "text": [
      "{'country': 'USA'}\n"
     ]
    }
   ],
   "source": [
    "## not merging but overriding\n",
    "student = {\"name\": \"John\", \"age\": 21, \"city\": \"New York\", \"age\": 22}\n",
    "student = {\"country\": \"USA\"}\n",
    "print(student)"
   ]
  },
  {
   "cell_type": "code",
   "execution_count": 16,
   "id": "77b2437b",
   "metadata": {},
   "outputs": [
    {
     "name": "stdout",
     "output_type": "stream",
     "text": [
      "John\n",
      "John\n",
      "not available\n"
     ]
    }
   ],
   "source": [
    "## accessing dictoneries element\n",
    "student = {\"name\": \"John\", \"age\": 21, \"city\": \"New York\", \"age\": 22}\n",
    "print(student[\"name\"])\n",
    "\n",
    "## uding default function 'get'\n",
    "print(student.get(\"name\"))\n",
    "print(student.get(\"country\", \"not available\"))\n",
    "\n"
   ]
  },
  {
   "cell_type": "code",
   "execution_count": 18,
   "id": "72a0a0c0",
   "metadata": {},
   "outputs": [
    {
     "name": "stdout",
     "output_type": "stream",
     "text": [
      "{'name': 'John', 'age': 22, 'city': 'New York', 'country': 'USA'}\n"
     ]
    }
   ],
   "source": [
    "## add and update dictonary\n",
    "student = {\"name\": \"John\", \"age\": 21, \"city\": \"New York\"}\n",
    "student[\"age\"] = 22\n",
    "student[\"country\"] = \"USA\"\n",
    "print(student)"
   ]
  },
  {
   "cell_type": "code",
   "execution_count": 19,
   "id": "8390a0a9",
   "metadata": {},
   "outputs": [
    {
     "name": "stdout",
     "output_type": "stream",
     "text": [
      "dict_keys(['name', 'age', 'city'])\n",
      "dict_values(['John', 21, 'New York'])\n",
      "dict_items([('name', 'John'), ('age', 21), ('city', 'New York')])\n"
     ]
    }
   ],
   "source": [
    "## get key value and pairs\n",
    "student = {\"name\": \"John\", \"age\": 21, \"city\": \"New York\"}\n",
    "print(student.keys())\n",
    "print(student.values())\n",
    "print(student.items())"
   ]
  },
  {
   "cell_type": "code",
   "execution_count": 1,
   "id": "640288a5",
   "metadata": {},
   "outputs": [
    {
     "name": "stdout",
     "output_type": "stream",
     "text": [
      "{'name': 'John', 'age': 25, 'city': 'New York'}\n",
      "{'name': 'John', 'age': 21, 'city': 'New York'}\n",
      "{'name': 'John', 'age': 25, 'city': 'New York'}\n"
     ]
    }
   ],
   "source": [
    "## shallow copy\n",
    "student = {\"name\": \"John\", \"age\": 21, \"city\": \"New York\"}\n",
    "student_copy = student.copy()\n",
    "\n",
    "\n",
    "student_copy[\"age\"] = 25\n",
    "print(student_copy)\n",
    "print(student)\n",
    "\n",
    "student[\"age\"] = 30\n",
    "print(student_copy)"
   ]
  },
  {
   "cell_type": "code",
   "execution_count": 27,
   "id": "e12b7538",
   "metadata": {},
   "outputs": [
    {
     "name": "stdout",
     "output_type": "stream",
     "text": [
      "name\n",
      "age\n",
      "city\n",
      "John\n",
      "21\n",
      "New York\n",
      "name:John\n",
      "age:21\n",
      "city:New York\n"
     ]
    }
   ],
   "source": [
    "## iteration\n",
    "student = {\"name\": \"John\", \"age\": 21, \"city\": \"New York\"}\n",
    "\n",
    "for key in student.keys():\n",
    "    print(key)\n",
    "\n",
    "for key in student.values():\n",
    "    print(key)\n",
    "\n",
    "for key,value in student.items():\n",
    "    print(f\"{key}:{value}\")"
   ]
  }
 ],
 "metadata": {
  "kernelspec": {
   "display_name": "Python 3",
   "language": "python",
   "name": "python3"
  },
  "language_info": {
   "codemirror_mode": {
    "name": "ipython",
    "version": 3
   },
   "file_extension": ".py",
   "mimetype": "text/x-python",
   "name": "python",
   "nbconvert_exporter": "python",
   "pygments_lexer": "ipython3",
   "version": "3.12.0"
  }
 },
 "nbformat": 4,
 "nbformat_minor": 5
}
