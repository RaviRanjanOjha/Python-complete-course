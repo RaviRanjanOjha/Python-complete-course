{
 "cells": [
  {
   "cell_type": "code",
   "execution_count": null,
   "id": "9ebe534f",
   "metadata": {},
   "outputs": [
    {
     "name": "stdout",
     "output_type": "stream",
     "text": [
      "{'student1': {'name': 'Ravi', 'age': 35}, 'student2': {'name': 'Ojha', 'age': 32}}\n"
     ]
    }
   ],
   "source": [
    "## nested dictonaries\n",
    "students={\n",
    "    \"student1\" : {\"name\":\"Ravi\", \"age\":35},\n",
    "    \"student2\" : {\"name\":\"Ojha\", \"age\":32}\n",
    "}\n",
    "\n",
    "print(students)"
   ]
  },
  {
   "cell_type": "code",
   "execution_count": 6,
   "id": "32a2abdb",
   "metadata": {},
   "outputs": [
    {
     "name": "stdout",
     "output_type": "stream",
     "text": [
      "Ravi\n",
      "Ojha\n"
     ]
    }
   ],
   "source": [
    "## access element in nested dict\n",
    "print(students[\"student1\"][\"name\"])\n",
    "print(students[\"student2\"][\"name\"])"
   ]
  },
  {
   "cell_type": "code",
   "execution_count": 8,
   "id": "a3f88f9c",
   "metadata": {},
   "outputs": [
    {
     "name": "stdout",
     "output_type": "stream",
     "text": [
      "('student1', {'name': 'Ravi', 'age': 35})\n",
      "('student2', {'name': 'Ojha', 'age': 32})\n"
     ]
    }
   ],
   "source": [
    "for student in students.items():\n",
    "    print(student)\n"
   ]
  },
  {
   "cell_type": "code",
   "execution_count": 11,
   "id": "9b77f35e",
   "metadata": {},
   "outputs": [
    {
     "name": "stdout",
     "output_type": "stream",
     "text": [
      "student1\n",
      "{'name': 'Ravi', 'age': 35}\n",
      "student2\n",
      "{'name': 'Ojha', 'age': 32}\n"
     ]
    }
   ],
   "source": [
    "for student_id,student_info in students.items():\n",
    "    print(student_id)\n",
    "    print(student_info)"
   ]
  },
  {
   "cell_type": "code",
   "execution_count": 13,
   "id": "e0dba7df",
   "metadata": {},
   "outputs": [
    {
     "name": "stdout",
     "output_type": "stream",
     "text": [
      "student1:{'name': 'Ravi', 'age': 35}\n",
      "name:Ravi\n",
      "age:35\n",
      "student2:{'name': 'Ojha', 'age': 32}\n",
      "name:Ojha\n",
      "age:32\n"
     ]
    }
   ],
   "source": [
    "for student_id,student_info in students.items():\n",
    "    print(f\"{student_id}:{student_info}\")\n",
    "    for key,value in student_info.items():\n",
    "        print(f\"{key}:{value}\")"
   ]
  }
 ],
 "metadata": {
  "kernelspec": {
   "display_name": "Python 3",
   "language": "python",
   "name": "python3"
  },
  "language_info": {
   "codemirror_mode": {
    "name": "ipython",
    "version": 3
   },
   "file_extension": ".py",
   "mimetype": "text/x-python",
   "name": "python",
   "nbconvert_exporter": "python",
   "pygments_lexer": "ipython3",
   "version": "3.12.0"
  }
 },
 "nbformat": 4,
 "nbformat_minor": 5
}
