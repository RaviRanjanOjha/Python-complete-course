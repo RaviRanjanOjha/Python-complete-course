{
 "cells": [
  {
   "cell_type": "code",
   "execution_count": 5,
   "id": "2464ddd2",
   "metadata": {},
   "outputs": [
    {
     "name": "stdout",
     "output_type": "stream",
     "text": [
      "1:1\n",
      "2:2\n",
      "3:3\n",
      "4:4\n",
      "5:5\n",
      "2:8\n"
     ]
    }
   ],
   "source": [
    "numbers=[1,2,2,3,3,3,4,4,4,4,5,5,5,5,5,8,8]\n",
    "\n",
    "for num in set(numbers):\n",
    "    print(f\"{numbers.count(num)}:{num}\")"
   ]
  },
  {
   "cell_type": "code",
   "execution_count": 6,
   "id": "fdc4184b",
   "metadata": {},
   "outputs": [
    {
     "name": "stdout",
     "output_type": "stream",
     "text": [
      "{'a': 1, 'b': 2}\n"
     ]
    }
   ],
   "source": [
    "## merge dict\n",
    "dict1 = {\"a\":1}\n",
    "dict2 = {\"b\":2}\n",
    "\n",
    "merged = {**dict1, **dict2}\n",
    "print(merged)\n"
   ]
  }
 ],
 "metadata": {
  "kernelspec": {
   "display_name": "Python 3",
   "language": "python",
   "name": "python3"
  },
  "language_info": {
   "codemirror_mode": {
    "name": "ipython",
    "version": 3
   },
   "file_extension": ".py",
   "mimetype": "text/x-python",
   "name": "python",
   "nbconvert_exporter": "python",
   "pygments_lexer": "ipython3",
   "version": "3.12.0"
  }
 },
 "nbformat": 4,
 "nbformat_minor": 5
}
