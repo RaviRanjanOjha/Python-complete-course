{
 "cells": [
  {
   "cell_type": "code",
   "execution_count": 1,
   "id": "b2c76b8c",
   "metadata": {},
   "outputs": [],
   "source": [
    "## multi param functions\n",
    "\n",
    "def calculator(num1, num2, operation):\n",
    "    if operation == \"+\":\n",
    "        print(num1+num2)\n",
    "    elif operation == \"-\":\n",
    "        print(num1-num2)\n",
    "    elif operation == \"/\":\n",
    "        print(num1/num2)\n",
    "    elif operation == \"*\":\n",
    "        print(num1*num2)\n",
    "    else:\n",
    "        print(\"operation not permitted\")\n",
    "    "
   ]
  },
  {
   "cell_type": "code",
   "execution_count": 4,
   "id": "2ae7c63a",
   "metadata": {},
   "outputs": [
    {
     "name": "stdout",
     "output_type": "stream",
     "text": [
      "30\n",
      "-10\n",
      "2.0\n",
      "200\n"
     ]
    }
   ],
   "source": [
    "calculator(10,20,\"+\")\n",
    "calculator(10,20,\"-\")\n",
    "calculator(20,10,\"/\")\n",
    "calculator(10,20,\"*\")"
   ]
  },
  {
   "cell_type": "code",
   "execution_count": null,
   "id": "fcdd5d92",
   "metadata": {},
   "outputs": [
    {
     "name": "stdout",
     "output_type": "stream",
     "text": [
      "1\n",
      "2\n",
      "3\n",
      "4\n",
      "ravi\n",
      "5\n",
      "6\n",
      "[1, 2]\n"
     ]
    }
   ],
   "source": [
    "## positional argument\n",
    "def unlimited_params(*args):\n",
    "    for arg in args:\n",
    "        print(arg)\n",
    "\n",
    "\n",
    "unlimited_params(1,2,3,4,\"ravi\", 5, 6, [1,2])"
   ]
  },
  {
   "cell_type": "code",
   "execution_count": 10,
   "id": "a98c7a0f",
   "metadata": {},
   "outputs": [
    {
     "name": "stdout",
     "output_type": "stream",
     "text": [
      "name:ravi\n",
      "age:30\n",
      "city:patna\n"
     ]
    }
   ],
   "source": [
    "## keyword arguments\n",
    "def keyword_arguments_function(**kwargs):\n",
    "    for key,value in kwargs.items():\n",
    "        print(f\"{key}:{value}\")\n",
    "\n",
    "\n",
    "keyword_arguments_function(name=\"ravi\", age=30, city=\"patna\")"
   ]
  },
  {
   "cell_type": "code",
   "execution_count": 14,
   "id": "71f3fb3b",
   "metadata": {},
   "outputs": [
    {
     "name": "stdout",
     "output_type": "stream",
     "text": [
      "positional argument:1\n",
      "positional argument:2\n",
      "positional argument:3\n",
      "positional argument:4\n",
      "positional argument:ravi\n",
      "name:ojha\n",
      "age:30\n",
      "city:patna\n"
     ]
    }
   ],
   "source": [
    "## mix of positional and keyword arguments\n",
    "def mixed_arguments_function(*args,**kwargs):\n",
    "    for val in args:\n",
    "        print(f\"positional argument:{val}\")\n",
    "    for key,value in kwargs.items():\n",
    "        print(f\"{key}:{value}\")\n",
    "\n",
    "\n",
    "mixed_arguments_function(1,2,3,4,\"ravi\", name=\"ojha\", age=30, city=\"patna\")"
   ]
  },
  {
   "cell_type": "code",
   "execution_count": 17,
   "id": "011a97f8",
   "metadata": {},
   "outputs": [
    {
     "name": "stdout",
     "output_type": "stream",
     "text": [
      "1400\n"
     ]
    }
   ],
   "source": [
    "## calculate total cost of items\n",
    "def calculate_total_cost():\n",
    "    total_cost = 0\n",
    "\n",
    "    cart = [\n",
    "        {\"fruit\":\"apple\", \"quantity\":10, \"cost\":10},\n",
    "        {\"fruit\":\"banana\", \"quantity\":20, \"cost\":20},\n",
    "        {\"fruit\":\"papaya\", \"quantity\":30, \"cost\":30},\n",
    "        ]\n",
    "    \n",
    "    for item in cart:\n",
    "        total_cost += item[\"cost\"] * item[\"quantity\"]\n",
    "\n",
    "    print(total_cost)\n",
    "\n",
    "\n",
    "calculate_total_cost()\n",
    "    "
   ]
  }
 ],
 "metadata": {
  "kernelspec": {
   "display_name": "Python 3",
   "language": "python",
   "name": "python3"
  },
  "language_info": {
   "codemirror_mode": {
    "name": "ipython",
    "version": 3
   },
   "file_extension": ".py",
   "mimetype": "text/x-python",
   "name": "python",
   "nbconvert_exporter": "python",
   "pygments_lexer": "ipython3",
   "version": "3.12.0"
  }
 },
 "nbformat": 4,
 "nbformat_minor": 5
}
