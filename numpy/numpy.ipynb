{
 "cells": [
  {
   "cell_type": "code",
   "execution_count": 2,
   "id": "3b5f2391",
   "metadata": {},
   "outputs": [
    {
     "name": "stdout",
     "output_type": "stream",
     "text": [
      "Requirement already satisfied: numpy in /Users/raviranjanojha/Documents/Python-complete-course/venv/lib/python3.12/site-packages (2.3.2)\n"
     ]
    }
   ],
   "source": [
    "!python3 -m pip install numpy"
   ]
  },
  {
   "cell_type": "code",
   "execution_count": 7,
   "id": "e620d8d6",
   "metadata": {},
   "outputs": [
    {
     "name": "stdout",
     "output_type": "stream",
     "text": [
      "[1 2 3]\n",
      "<class 'numpy.ndarray'>\n",
      "(3,)\n",
      "int64\n"
     ]
    }
   ],
   "source": [
    "import numpy as np\n",
    "\n",
    "arr1 = np.array([1, 2, 3])\n",
    "print(arr1)\n",
    "print(type(arr1))\n",
    "print(arr1.shape)\n",
    "print(arr1.dtype)"
   ]
  },
  {
   "cell_type": "code",
   "execution_count": 12,
   "id": "3832571f",
   "metadata": {},
   "outputs": [
    {
     "name": "stdout",
     "output_type": "stream",
     "text": [
      "[[1 2 3 4 5]]\n",
      "[[1]\n",
      " [2]\n",
      " [3]\n",
      " [4]\n",
      " [5]]\n"
     ]
    }
   ],
   "source": [
    "arr1 = np.array([1, 2, 3, 4, 5])\n",
    "arr1 = arr1.reshape(1,5)\n",
    "print(arr1)\n",
    "\n",
    "arr1 = arr1.reshape(5,1)\n",
    "print(arr1)"
   ]
  },
  {
   "cell_type": "code",
   "execution_count": null,
   "id": "8175de2a",
   "metadata": {},
   "outputs": [
    {
     "name": "stdout",
     "output_type": "stream",
     "text": [
      "[[1 2 3]\n",
      " [4 5 6]]\n",
      "(2, 3)\n",
      "int64\n"
     ]
    }
   ],
   "source": [
    "## 2D Array\n",
    "arr2 = np.array([[1, 2, 3], [4, 5, 6]])\n",
    "print(arr2)\n",
    "print(arr2.shape)\n",
    "print(arr2.dtype)"
   ]
  },
  {
   "cell_type": "code",
   "execution_count": 18,
   "id": "df05febc",
   "metadata": {},
   "outputs": [
    {
     "name": "stdout",
     "output_type": "stream",
     "text": [
      "[[1]\n",
      " [3]\n",
      " [5]\n",
      " [7]\n",
      " [9]]\n",
      "(5, 1)\n",
      "int64\n"
     ]
    }
   ],
   "source": [
    "## create array with inbuilt function\n",
    "arr3 = np.arange(1, 10, 2).reshape(5, 1)\n",
    "print(arr3)\n",
    "print(arr3.shape)\n",
    "print(arr3.dtype)\n"
   ]
  },
  {
   "cell_type": "code",
   "execution_count": 19,
   "id": "fdfbd86e",
   "metadata": {},
   "outputs": [
    {
     "data": {
      "text/plain": [
       "array([[1., 1., 1.],\n",
       "       [1., 1., 1.]])"
      ]
     },
     "execution_count": 19,
     "metadata": {},
     "output_type": "execute_result"
    }
   ],
   "source": [
    "np.ones((2, 3))\n"
   ]
  },
  {
   "cell_type": "code",
   "execution_count": 22,
   "id": "4db8765f",
   "metadata": {},
   "outputs": [
    {
     "data": {
      "text/plain": [
       "array([[1., 0., 0.],\n",
       "       [0., 1., 0.],\n",
       "       [0., 0., 1.]])"
      ]
     },
     "execution_count": 22,
     "metadata": {},
     "output_type": "execute_result"
    }
   ],
   "source": [
    "np.eye(3)"
   ]
  },
  {
   "cell_type": "code",
   "execution_count": 23,
   "id": "22c17d8b",
   "metadata": {},
   "outputs": [
    {
     "name": "stdout",
     "output_type": "stream",
     "text": [
      "Array:\n",
      " [[1 2 3]\n",
      " [4 5 6]]\n",
      "Shape: (2, 3)\n",
      "Data type: int64\n",
      "Number of dimensions: 2\n",
      "Size: 6\n",
      "Item size (bytes): 8\n",
      "Total bytes consumed: 48\n",
      "Array data (flattened): [1 2 3 4 5 6]\n",
      "Array data (transposed): [[1 4]\n",
      " [2 5]\n",
      " [3 6]]\n",
      "Array data (sliced): [2 3]\n"
     ]
    }
   ],
   "source": [
    "arr = np.array([[1, 2, 3], [4, 5, 6]])\n",
    "print(\"Array:\\n\", arr)\n",
    "print(\"Shape:\", arr.shape)\n",
    "print(\"Data type:\", arr.dtype)\n",
    "print(\"Number of dimensions:\", arr.ndim)\n",
    "print(\"Size:\", arr.size)\n",
    "print(\"Item size (bytes):\", arr.itemsize)\n",
    "print(\"Total bytes consumed:\", arr.nbytes)\n",
    "print(\"Array data (flattened):\", arr.flatten())\n",
    "print(\"Array data (transposed):\", arr.T)\n",
    "print(\"Array data (sliced):\", arr[0, 1:3])"
   ]
  },
  {
   "cell_type": "code",
   "execution_count": 24,
   "id": "1350540c",
   "metadata": {},
   "outputs": [
    {
     "name": "stdout",
     "output_type": "stream",
     "text": [
      "Addition:\n",
      " [[ 8 10 12]\n",
      " [14 16 18]]\n",
      "Subtraction:\n",
      " [[-6 -6 -6]\n",
      " [-6 -6 -6]]\n",
      "Element-wise Multiplication:\n",
      " [[ 7 16 27]\n",
      " [40 55 72]]\n",
      "Element-wise Division:\n",
      " [[0.14285714 0.25       0.33333333]\n",
      " [0.4        0.45454545 0.5       ]]\n",
      "Matrix Multiplication:\n",
      " [[ 50  68]\n",
      " [122 167]]\n"
     ]
    }
   ],
   "source": [
    "## mathemetical operation\n",
    "arr1 = np.array([[1, 2, 3], [4, 5, 6]])\n",
    "arr2 = np.array([[7, 8, 9], [10, 11, 12]])\n",
    "print(\"Addition:\\n\", arr1 + arr2)\n",
    "print(\"Subtraction:\\n\", arr1 - arr2)\n",
    "print(\"Element-wise Multiplication:\\n\", arr1 * arr2)\n",
    "print(\"Element-wise Division:\\n\", arr1 / arr2)\n",
    "print(\"Matrix Multiplication:\\n\", np.dot(arr1, arr2.T))\n"
   ]
  },
  {
   "cell_type": "code",
   "execution_count": 25,
   "id": "58dc7244",
   "metadata": {},
   "outputs": [
    {
     "name": "stdout",
     "output_type": "stream",
     "text": [
      "Square root:\n",
      " [[1.         1.41421356 1.73205081]\n",
      " [2.         2.23606798 2.44948974]]\n",
      "Exponential:\n",
      " [[  2.71828183   7.3890561   20.08553692]\n",
      " [ 54.59815003 148.4131591  403.42879349]]\n",
      "Logarithm:\n",
      " [[0.         0.69314718 1.09861229]\n",
      " [1.38629436 1.60943791 1.79175947]]\n",
      "Sine:\n",
      " [[ 0.84147098  0.90929743  0.14112001]\n",
      " [-0.7568025  -0.95892427 -0.2794155 ]]\n",
      "Cosine:\n",
      " [[ 0.54030231 -0.41614684 -0.9899925 ]\n",
      " [-0.65364362  0.28366219  0.96017029]]\n"
     ]
    }
   ],
   "source": [
    "## universal function\n",
    "arr1 = np.array([[1, 2, 3], [4, 5, 6]])\n",
    "print(\"Square root:\\n\", np.sqrt(arr1))\n",
    "print(\"Exponential:\\n\", np.exp(arr1))\n",
    "print(\"Logarithm:\\n\", np.log(arr1))\n",
    "print(\"Sine:\\n\", np.sin(arr1))\n",
    "print(\"Cosine:\\n\", np.cos(arr1))\n"
   ]
  },
  {
   "cell_type": "code",
   "execution_count": 27,
   "id": "e5f9b420",
   "metadata": {},
   "outputs": [
    {
     "name": "stdout",
     "output_type": "stream",
     "text": [
      "Original Array:\n",
      " [[1 2 3]\n",
      " [4 5 6]]\n",
      "Sliced Array (first row):\n",
      " [1 2 3]\n",
      "Sliced Array (second column):\n",
      " [2 5]\n",
      "Squared Array:\n",
      " [[ 1  4  9]\n",
      " [16 25 36]]\n",
      "[[2 3]\n",
      " [5 6]]\n"
     ]
    }
   ],
   "source": [
    "## slicing and squaring\n",
    "arr = np.array([[1, 2, 3], [4, 5, 6]])\n",
    "print(\"Original Array:\\n\", arr)\n",
    "print(\"Sliced Array (first row):\\n\", arr[0])\n",
    "print(\"Sliced Array (second column):\\n\", arr[:, 1])\n",
    "print(\"Squared Array:\\n\", arr ** 2)\n",
    "print(arr[0:, 1:3])\n"
   ]
  },
  {
   "cell_type": "code",
   "execution_count": 29,
   "id": "db870a66",
   "metadata": {},
   "outputs": [
    {
     "name": "stdout",
     "output_type": "stream",
     "text": [
      "Normalized Array:\n",
      " [[-1.46385011 -0.87831007 -0.29277002]\n",
      " [ 0.29277002  0.87831007  1.46385011]]\n"
     ]
    }
   ],
   "source": [
    "## statical concept - normalization\n",
    "arr = np.array([[1, 2, 3], [4, 5, 6]])\n",
    "mean = np.mean(arr)\n",
    "std = np.std(arr)\n",
    "\n",
    "## normalization\n",
    "normalized = (arr - mean) / std\n",
    "print(\"Normalized Array:\\n\", normalized)\n"
   ]
  },
  {
   "cell_type": "code",
   "execution_count": 31,
   "id": "fa422bda",
   "metadata": {},
   "outputs": [
    {
     "name": "stdout",
     "output_type": "stream",
     "text": [
      "Mean: 3.5\n",
      "Median: 3.5\n",
      "Variance: 2.9166666666666665\n",
      "Standard Deviation: 1.707825127659933\n"
     ]
    }
   ],
   "source": [
    "## mean, median, mode, variance, standard deviation\n",
    "arr = np.array([[1, 2, 3], [4, 5, 6]])\n",
    "mean = np.mean(arr)\n",
    "median = np.median(arr)\n",
    "variance = np.var(arr)\n",
    "std_dev = np.std(arr)\n",
    "\n",
    "\n",
    "print(\"Mean:\", mean)\n",
    "print(\"Median:\", median)\n",
    "print(\"Variance:\", variance)\n",
    "print(\"Standard Deviation:\", std_dev)\n"
   ]
  },
  {
   "cell_type": "code",
   "execution_count": 32,
   "id": "b8fcc7f9",
   "metadata": {},
   "outputs": [
    {
     "name": "stdout",
     "output_type": "stream",
     "text": [
      "Logical AND:\n",
      " [[False False  True]\n",
      " [ True  True  True]]\n",
      "Logical OR:\n",
      " [[False False  True]\n",
      " [ True  True  True]]\n",
      "Logical NOT:\n",
      " [[ True  True False]\n",
      " [False False False]]\n"
     ]
    }
   ],
   "source": [
    "## logical operation\n",
    "arr1 = np.array([[1, 2, 3], [4, 5, 6]])\n",
    "arr2 = np.array([[6, 5, 4], [3, 2, 1]])\n",
    "print(\"Logical AND:\\n\", np.logical_and(arr1 > 2, arr2 < 5))\n",
    "print(\"Logical OR:\\n\", np.logical_or(arr1 > 2, arr2 < 5))\n",
    "print(\"Logical NOT:\\n\", np.logical_not(arr1 > 2))\n"
   ]
  },
  {
   "cell_type": "code",
   "execution_count": null,
   "id": "4d634c5b",
   "metadata": {},
   "outputs": [],
   "source": []
  }
 ],
 "metadata": {
  "kernelspec": {
   "display_name": "Python 3",
   "language": "python",
   "name": "python3"
  },
  "language_info": {
   "codemirror_mode": {
    "name": "ipython",
    "version": 3
   },
   "file_extension": ".py",
   "mimetype": "text/x-python",
   "name": "python",
   "nbconvert_exporter": "python",
   "pygments_lexer": "ipython3",
   "version": "3.12.0"
  }
 },
 "nbformat": 4,
 "nbformat_minor": 5
}
