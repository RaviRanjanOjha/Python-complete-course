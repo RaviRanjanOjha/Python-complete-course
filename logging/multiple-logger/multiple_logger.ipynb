{
 "cells": [
  {
   "cell_type": "code",
   "execution_count": 2,
   "id": "b117a16c",
   "metadata": {},
   "outputs": [],
   "source": [
    "## multiple logger\n",
    "\n",
    "import logging\n",
    "\n",
    "logger1 = logging.getLogger('logger1')\n",
    "logger1.setLevel(logging.DEBUG)\n",
    "\n",
    "logger2 = logging.getLogger('logger2')\n",
    "logger2.setLevel(logging.WARNING)\n",
    "\n",
    "logging.basicConfig(\n",
    "    filename='app.log',\n",
    "    level=logging.DEBUG, \n",
    "    format='%(asctime)s - %(levelname)s - %(message)s', \n",
    "    datefmt='%Y-%m-%d %H:%M:%S')    \n",
    "\n",
    "logger1.debug(\"This is a debug message from logger1\")\n",
    "logger2.warning(\"This is a warning message from logger2\")\n"
   ]
  }
 ],
 "metadata": {
  "kernelspec": {
   "display_name": "Python 3",
   "language": "python",
   "name": "python3"
  },
  "language_info": {
   "codemirror_mode": {
    "name": "ipython",
    "version": 3
   },
   "file_extension": ".py",
   "mimetype": "text/x-python",
   "name": "python",
   "nbconvert_exporter": "python",
   "pygments_lexer": "ipython3",
   "version": "3.12.0"
  }
 },
 "nbformat": 4,
 "nbformat_minor": 5
}
