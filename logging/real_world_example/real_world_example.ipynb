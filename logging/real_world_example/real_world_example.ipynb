{
 "cells": [
  {
   "cell_type": "code",
   "execution_count": 1,
   "id": "a174eb6f",
   "metadata": {},
   "outputs": [],
   "source": [
    "## logger\n",
    "\n",
    "import logging\n",
    "\n",
    "logging.basicConfig(\n",
    "    level=logging.DEBUG, \n",
    "    format='%(asctime)s - %(levelname)s - %(message)s', \n",
    "    datefmt='%Y-%m-%d %H:%M:%S',\n",
    "    handlers=[\n",
    "        logging.FileHandler(\"app.log\"),\n",
    "        logging.StreamHandler()\n",
    "    ]\n",
    ")\n",
    "\n",
    "logger = logging.getLogger(\"ArithmeticApp\")\n",
    "\n",
    "\n",
    "def add(a, b):\n",
    "    logger.debug(f\"Adding {a} and {b}\")\n",
    "    return a + b\n",
    "\n",
    "def subtract(a, b):\n",
    "    logger.debug(f\"Subtracting {b} from {a}\")\n",
    "    return a - b\n",
    "\n",
    "def multiply(a, b):\n",
    "    logger.debug(f\"Multiplying {a} and {b}\")\n",
    "    return a * b\n",
    "\n",
    "def divide(a, b):\n",
    "    if b == 0:\n",
    "        logger.error(\"Division by zero attempted\")\n",
    "        return None\n",
    "    logger.debug(f\"Dividing {a} by {b}\")\n",
    "    return a / b"
   ]
  },
  {
   "cell_type": "code",
   "execution_count": 4,
   "id": "8a48d2ce",
   "metadata": {},
   "outputs": [
    {
     "name": "stderr",
     "output_type": "stream",
     "text": [
      "2025-09-07 09:46:10 - DEBUG - Adding 5 and 3\n",
      "2025-09-07 09:46:10 - DEBUG - Subtracting 4 from 10\n",
      "2025-09-07 09:46:10 - DEBUG - Multiplying 2 and 6\n",
      "2025-09-07 09:46:10 - ERROR - Division by zero attempted\n",
      "2025-09-07 09:46:10 - ERROR - Division by zero attempted\n"
     ]
    }
   ],
   "source": [
    "add(5, 3)\n",
    "subtract(10, 4)\n",
    "multiply(2, 6)\n",
    "divide(8, 0)\n",
    "divide(8, 0)"
   ]
  }
 ],
 "metadata": {
  "kernelspec": {
   "display_name": "Python 3",
   "language": "python",
   "name": "python3"
  },
  "language_info": {
   "codemirror_mode": {
    "name": "ipython",
    "version": 3
   },
   "file_extension": ".py",
   "mimetype": "text/x-python",
   "name": "python",
   "nbconvert_exporter": "python",
   "pygments_lexer": "ipython3",
   "version": "3.12.0"
  }
 },
 "nbformat": 4,
 "nbformat_minor": 5
}
