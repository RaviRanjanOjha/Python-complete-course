{
 "cells": [
  {
   "cell_type": "code",
   "execution_count": 4,
   "id": "7b2f2f9e",
   "metadata": {},
   "outputs": [
    {
     "name": "stdout",
     "output_type": "stream",
     "text": [
      "False\n",
      "True\n"
     ]
    }
   ],
   "source": [
    "## subset & suoerset\n",
    "set1 = {1, 2, 3, 4, 5,6,7,8,9,10}\n",
    "set2 = {4,5,6,7,8,9,10}\n",
    "\n",
    "print(set1.issubset(set2))\n",
    "print(set1.issuperset(set2))\n",
    "\n"
   ]
  },
  {
   "cell_type": "code",
   "execution_count": null,
   "id": "d9eeafd4",
   "metadata": {},
   "outputs": [
    {
     "name": "stdout",
     "output_type": "stream",
     "text": [
      "{'India', 'world,', 'hello'}\n",
      "5\n",
      "6\n",
      "5\n"
     ]
    }
   ],
   "source": [
    "## count unique words in sentence\n",
    "\n",
    "sentence = \"hello world, hello India\"\n",
    "splitWord = sentence.split()\n",
    "\n",
    "unique_words = set(splitWord)\n",
    "\n",
    "print(unique_words)\n",
    "\n",
    "for word in unique_words:\n",
    "    print(len(word))\n",
    "\n"
   ]
  }
 ],
 "metadata": {
  "kernelspec": {
   "display_name": "Python 3",
   "language": "python",
   "name": "python3"
  },
  "language_info": {
   "codemirror_mode": {
    "name": "ipython",
    "version": 3
   },
   "file_extension": ".py",
   "mimetype": "text/x-python",
   "name": "python",
   "nbconvert_exporter": "python",
   "pygments_lexer": "ipython3",
   "version": "3.12.0"
  }
 },
 "nbformat": 4,
 "nbformat_minor": 5
}
