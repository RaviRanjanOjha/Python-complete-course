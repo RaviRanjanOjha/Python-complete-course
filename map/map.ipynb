{
 "cells": [
  {
   "cell_type": "code",
   "execution_count": 4,
   "id": "714eb5d4",
   "metadata": {},
   "outputs": [
    {
     "name": "stdout",
     "output_type": "stream",
     "text": [
      "[1, 4, 9, 16]\n"
     ]
    }
   ],
   "source": [
    "## iterate over all the elements and do some operation\n",
    "number = [1,2,3,4]\n",
    "updated_numbers = map(lambda x:x**2 ,number)\n",
    "print(list(updated_numbers))"
   ]
  },
  {
   "cell_type": "code",
   "execution_count": 5,
   "id": "ec34eea1",
   "metadata": {},
   "outputs": [
    {
     "name": "stdout",
     "output_type": "stream",
     "text": [
      "[3, 5, 7, 5]\n"
     ]
    }
   ],
   "source": [
    "## map multi list\n",
    "number1 = [1,2,3,4]\n",
    "number2 = [2,3,4,1]\n",
    "\n",
    "update_numbers = map(lambda x, y:x+y, number1, number2)\n",
    "print(list(update_numbers))"
   ]
  }
 ],
 "metadata": {
  "kernelspec": {
   "display_name": "Python 3",
   "language": "python",
   "name": "python3"
  },
  "language_info": {
   "codemirror_mode": {
    "name": "ipython",
    "version": 3
   },
   "file_extension": ".py",
   "mimetype": "text/x-python",
   "name": "python",
   "nbconvert_exporter": "python",
   "pygments_lexer": "ipython3",
   "version": "3.12.0"
  }
 },
 "nbformat": 4,
 "nbformat_minor": 5
}
