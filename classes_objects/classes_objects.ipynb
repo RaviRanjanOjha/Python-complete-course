{
 "cells": [
  {
   "cell_type": "code",
   "execution_count": null,
   "id": "7b82ad32",
   "metadata": {},
   "outputs": [
    {
     "name": "stdout",
     "output_type": "stream",
     "text": [
      "<class 'type'>\n"
     ]
    }
   ],
   "source": [
    "## class syntax\n",
    "\n",
    "class Car:\n",
    "    pass\n",
    "\n",
    "print(type(Car))"
   ]
  },
  {
   "cell_type": "code",
   "execution_count": null,
   "id": "4eaa96ea",
   "metadata": {},
   "outputs": [
    {
     "name": "stdout",
     "output_type": "stream",
     "text": [
      "4\n"
     ]
    }
   ],
   "source": [
    "## create object\n",
    "\n",
    "class Car:\n",
    "    pass\n",
    "\n",
    "audi=Car()\n",
    "audi.window = 4\n",
    "print(audi.window)"
   ]
  },
  {
   "cell_type": "code",
   "execution_count": 9,
   "id": "18a456ea",
   "metadata": {},
   "outputs": [
    {
     "name": "stdout",
     "output_type": "stream",
     "text": [
      "buddy\n",
      "5\n"
     ]
    }
   ],
   "source": [
    "## Instance variable\n",
    "## constructior function\n",
    "\n",
    "class Dog:\n",
    "\n",
    "    ## constructor\n",
    "    def __init__(self,name, age):\n",
    "        self.name = name\n",
    "        self.age = age\n",
    "\n",
    "dog=Dog(\"buddy\", 5)\n",
    "print(dog.name)\n",
    "print(dog.age)\n"
   ]
  },
  {
   "cell_type": "code",
   "execution_count": 21,
   "id": "16720901",
   "metadata": {},
   "outputs": [
    {
     "name": "stdout",
     "output_type": "stream",
     "text": [
      "total balance after deposit : 2000\n",
      "Current balance is: 2000\n",
      "1000\n",
      "Current balance is: 1000\n"
     ]
    }
   ],
   "source": [
    "## bank functionality\n",
    "\n",
    "class Bank:\n",
    "    def __init__(self, owner, balance=0):\n",
    "        self.owner = owner\n",
    "        self.balance = balance\n",
    "\n",
    "    def deposit(self, amount):\n",
    "        self.balance = self.balance+amount \n",
    "        print(f\"total balance after deposit : {self.balance}\")\n",
    "\n",
    "    def withdraw(self, amount):\n",
    "        if self.balance<amount:\n",
    "            print(\"withdraw not allowed\")\n",
    "        else:\n",
    "            self.balance = self.balance - amount\n",
    "            print(self.balance)\n",
    "\n",
    "    def inquery(self):\n",
    "        print(f\"Current balance is: {self.balance}\")\n",
    "\n",
    "\n",
    "    bank = Bank(\"ravi\", 1000)\n",
    "    bank.deposit(1000)\n",
    "    bank.inquery()\n",
    "    bank.withdraw(1000)\n",
    "    bank.inquery()\n",
    "\n"
   ]
  }
 ],
 "metadata": {
  "kernelspec": {
   "display_name": "Python 3",
   "language": "python",
   "name": "python3"
  },
  "language_info": {
   "codemirror_mode": {
    "name": "ipython",
    "version": 3
   },
   "file_extension": ".py",
   "mimetype": "text/x-python",
   "name": "python",
   "nbconvert_exporter": "python",
   "pygments_lexer": "ipython3",
   "version": "3.12.0"
  }
 },
 "nbformat": 4,
 "nbformat_minor": 5
}
