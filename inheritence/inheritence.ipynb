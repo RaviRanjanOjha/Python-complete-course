{
 "cells": [
  {
   "cell_type": "code",
   "execution_count": 10,
   "id": "f6420877",
   "metadata": {},
   "outputs": [
    {
     "name": "stdout",
     "output_type": "stream",
     "text": [
      "This tesla car is self driving : true\n",
      "this car is auto\n"
     ]
    }
   ],
   "source": [
    "## Inheritence\n",
    "class Car:\n",
    "    def __init__(self, window, door, engine_type):\n",
    "        self.window : window\n",
    "        self.door : door\n",
    "        self.engine_type = engine_type\n",
    "\n",
    "    def engine_type_modle(self):\n",
    "        print(f\"this car is {self.engine_type}\")\n",
    "\n",
    "\n",
    "class Tesla(Car):\n",
    "    def __init__(self, window, door, engine_type, is_self_driving):\n",
    "        super().__init__(window, door, engine_type)\n",
    "        self.is_self_driving = is_self_driving\n",
    "\n",
    "    def tesla_car(self):\n",
    "        print(f\"This tesla car is self driving : {self.is_self_driving}\")\n",
    "\n",
    "\n",
    "tesla = Tesla(4,4,\"auto\",\"true\")\n",
    "tesla.tesla_car()\n",
    "\n",
    "## call from parent\n",
    "tesla.engine_type_modle()\n"
   ]
  },
  {
   "cell_type": "code",
   "execution_count": 5,
   "id": "d4361f17",
   "metadata": {},
   "outputs": [
    {
     "name": "stdout",
     "output_type": "stream",
     "text": [
      "Buddy says: hello!\n"
     ]
    }
   ],
   "source": [
    "## multiple inheritance\n",
    "\n",
    "class Annimal:\n",
    "    def __init__(self, name):\n",
    "        self.name = name\n",
    "\n",
    "    def speak(self):\n",
    "        print(f\"{self.name} says: hello!\")\n",
    "    \n",
    "\n",
    "class Pet:\n",
    "    def __init__(self, owner):\n",
    "        self.owner = owner\n",
    "\n",
    "\n",
    "class Dog(Annimal,Pet):\n",
    "    def __init__(self, name, owner):\n",
    "        Annimal.__init__(self,name)\n",
    "        Pet.__init__(self,owner)\n",
    "\n",
    "    def speak(self):\n",
    "        return f\"{self.name} says: hello!\"\n",
    "\n",
    "dog = Dog(\"Buddy\", \"Alice\")\n",
    "print(dog.speak())"
   ]
  }
 ],
 "metadata": {
  "kernelspec": {
   "display_name": "Python 3",
   "language": "python",
   "name": "python3"
  },
  "language_info": {
   "codemirror_mode": {
    "name": "ipython",
    "version": 3
   },
   "file_extension": ".py",
   "mimetype": "text/x-python",
   "name": "python",
   "nbconvert_exporter": "python",
   "pygments_lexer": "ipython3",
   "version": "3.12.0"
  }
 },
 "nbformat": 4,
 "nbformat_minor": 5
}
