{
 "cells": [
  {
   "cell_type": "code",
   "execution_count": 8,
   "id": "c134d4c8",
   "metadata": {},
   "outputs": [
    {
     "name": "stdout",
     "output_type": "stream",
     "text": [
      "I am Moti, my age is 35, i speak liek woof\n"
     ]
    }
   ],
   "source": [
    "class Animal:\n",
    "    def __init__(self, name,age):\n",
    "        self.name = name\n",
    "        self.age = age\n",
    "\n",
    "    def animal_detail(self):\n",
    "        print(\"this storu about animal\")\n",
    "\n",
    "class Dog(Animal):\n",
    "    def __init__(self, name, age, speak):\n",
    "        super().__init__(name, age)\n",
    "        self.speak = speak\n",
    "\n",
    "    def dog_detail(self):\n",
    "        return f\"I am {self.name}, my age is {self.age}, i speak liek {self.speak}\"\n",
    "\n",
    "class Cat(Animal):\n",
    "    def __init__(self, name, age, speak):\n",
    "        super().__init__(name, age)\n",
    "        self.speak = speak\n",
    "\n",
    "    def cat_detail(self):\n",
    "        return f\"I am {self.name}, my age is {self.age}, i speak liek {self.speak}\"\n",
    "\n",
    "\n",
    "dog=Dog(\"Moti\", 35, \"woof\")\n",
    "print(dog.dog_detail())\n"
   ]
  }
 ],
 "metadata": {
  "kernelspec": {
   "display_name": "Python 3",
   "language": "python",
   "name": "python3"
  },
  "language_info": {
   "codemirror_mode": {
    "name": "ipython",
    "version": 3
   },
   "file_extension": ".py",
   "mimetype": "text/x-python",
   "name": "python",
   "nbconvert_exporter": "python",
   "pygments_lexer": "ipython3",
   "version": "3.12.0"
  }
 },
 "nbformat": 4,
 "nbformat_minor": 5
}
