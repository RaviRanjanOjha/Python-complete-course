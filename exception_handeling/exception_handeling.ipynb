{
 "cells": [
  {
   "cell_type": "code",
   "execution_count": 1,
   "id": "f0a72661",
   "metadata": {},
   "outputs": [
    {
     "name": "stdout",
     "output_type": "stream",
     "text": [
      "name 'b' is not defined\n",
      "name not defined\n"
     ]
    }
   ],
   "source": [
    "## try and except\n",
    "try:\n",
    "    a=b\n",
    "except NameError as ex:\n",
    "    print(ex)\n",
    "    print(\"name not defined\")"
   ]
  },
  {
   "cell_type": "code",
   "execution_count": 8,
   "id": "9ef8d7a6",
   "metadata": {},
   "outputs": [
    {
     "name": "stdout",
     "output_type": "stream",
     "text": [
      "unsupported operand type(s) for /: 'str' and 'str'\n",
      "error handeling completed here.\n"
     ]
    }
   ],
   "source": [
    "## try, except, else, finally\n",
    "try:\n",
    "    b = input(\"enter the value for b\")\n",
    "    a = input(\"enter the value for a\")\n",
    "    a/b\n",
    "except NameError as ex:\n",
    "    print(ex)\n",
    "except ZeroDivisionError as ex1:\n",
    "    print(ex1)\n",
    "except Exception as ex2:\n",
    "    print(ex2)\n",
    "else:\n",
    "    print(\"no error\")\n",
    "finally:\n",
    "    print(\"error handeling completed here.\")"
   ]
  }
 ],
 "metadata": {
  "kernelspec": {
   "display_name": "Python 3",
   "language": "python",
   "name": "python3"
  },
  "language_info": {
   "codemirror_mode": {
    "name": "ipython",
    "version": 3
   },
   "file_extension": ".py",
   "mimetype": "text/x-python",
   "name": "python",
   "nbconvert_exporter": "python",
   "pygments_lexer": "ipython3",
   "version": "3.12.0"
  }
 },
 "nbformat": 4,
 "nbformat_minor": 5
}
